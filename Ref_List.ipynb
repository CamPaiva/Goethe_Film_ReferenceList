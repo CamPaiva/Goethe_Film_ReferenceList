{
  "nbformat": 4,
  "nbformat_minor": 0,
  "metadata": {
    "colab": {
      "provenance": [],
      "authorship_tag": "ABX9TyPONen72TDiO8hXt9A+yA/m",
      "include_colab_link": true
    },
    "kernelspec": {
      "name": "python3",
      "display_name": "Python 3"
    },
    "language_info": {
      "name": "python"
    }
  },
  "cells": [
    {
      "cell_type": "markdown",
      "metadata": {
        "id": "view-in-github",
        "colab_type": "text"
      },
      "source": [
        "<a href=\"https://colab.research.google.com/github/CamPaiva/goethe-reference-list/blob/main/Ref_List.ipynb\" target=\"_parent\"><img src=\"https://colab.research.google.com/assets/colab-badge.svg\" alt=\"Open In Colab\"/></a>"
      ]
    },
    {
      "cell_type": "markdown",
      "source": [
        "# Film Reference List of the Goethe University Frankfurt\n",
        "\n",
        "The film department of the Goethe University Frankfurt makes a [Reference List](https://www.uni-frankfurt.de/83387917/ReferenzlisteFilm_Nov2019.pdf) available to its students which contains 433 films. It is worth investigating the types of films that are considered worthy of inclusion. What countries are the most represented? How about the decades in which the films were made? What is the gender ratio of directors? Are more recent decades more or less diverse? Let's find out!"
      ],
      "metadata": {
        "id": "XXwpWhOD4hzm"
      }
    },
    {
      "cell_type": "markdown",
      "source": [
        "# Pre-analysis data cleanup and reconciliation\n",
        "Before I could do any of this analysis I first had to clean up the list of films, which was quite messy in the original PDF. Though each line is supposed to contain the film title, director, country, and year (separated by commas), there were many inconsistensies which had to be fixed. Missing data which was not surrounded by commas created problems when shifting each characteristic into a column. Inconsistent writing of countries and director's names were also an issue. To clean up this data, I used the software [OpenRefine](https://openrefine.org/). With OpenRefine, I could also reconcile each film with their respective pages on Wikidata and OMDb, and with that I could add new columns that were not present in the original data. It is the result of this process that we'll be using here.\n",
        "\n",
        "A note on the cleanup: while the initial list has 434 films, I removed the rows that are not actually unique films from the list. These were in fact complilations of shorts, and because it was unclear what exactly were the shorts contained in each compilation, I decided to exclude them, leaving me with 428 titles. Individual shorts are, however, still present."
      ],
      "metadata": {
        "id": "sQYqlgk65eeK"
      }
    },
    {
      "cell_type": "code",
      "execution_count": 1,
      "metadata": {
        "id": "q2USQxS24Pe5"
      },
      "outputs": [],
      "source": [
        "# Imports\n",
        "import pandas as pd\n",
        "from matplotlib import pyplot as plt\n",
        "import seaborn as sns\n",
        "import plotly.express as px\n",
        "from scipy.stats import linregress\n",
        "from google.colab import drive"
      ]
    },
    {
      "cell_type": "code",
      "source": [
        "# Create function to make a new dataframe to count the frequency with which certain strings appear.\n",
        "# We will use it to count the number of films per country, but this would be useful to count\n",
        "# the most common directors, gender of directors, genre of films, etc.\n",
        "\n",
        "def count_frequency(df, column):  #put column name in quotation marks\n",
        "    ordered_values = pd.DataFrame(df[column].value_counts())  #this counts and orders the values that repeat\n",
        "    ordered_values[\"Frequency\"] = df[column].value_counts(normalize=True)  # creates a frequency column, use \"ascending=False\" for desc order\n",
        "    ordered_values = ordered_values.reset_index()  #this reattaches a numbered index column to the left\n",
        "    ordered_values = ordered_values.rename(columns = {\"index\": column, column: \"Number of Items\"})  #this changes the messed up column names\n",
        "    return ordered_values"
      ],
      "metadata": {
        "id": "LpBhvGmNXKiO"
      },
      "execution_count": 2,
      "outputs": []
    },
    {
      "cell_type": "code",
      "source": [
        "# This function is designed to follow up from the grouping function.\n",
        "# This changes the name of all items that make up less than a certain percentage of the total to \"Others\".\n",
        "# The others are then placed at the end, no matter what the count number is.\n",
        "def group_others(df, column, percentage): #the percentage should be placed as a number (e.g. 0.02, not \"2%\")\n",
        "    df.loc[df.Frequency < percentage, column] = 'Others' \n",
        "    all_plus_others = (df\n",
        "                .groupby(column).sum()\n",
        "                .sort_values('Number of Items', ascending=False)\n",
        "                .reset_index())\n",
        "    list_others_last = pd.DataFrame()\n",
        "    list_others_last = list_others_last.append(all_plus_others[all_plus_others[column] != \"Others\"])\n",
        "    list_others_last = list_others_last.append(all_plus_others[all_plus_others[column] == \"Others\"])\n",
        "    list_others_last.reset_index(inplace=True, drop=True)\n",
        "    return list_others_last"
      ],
      "metadata": {
        "id": "rFccR7xGZB08"
      },
      "execution_count": 3,
      "outputs": []
    },
    {
      "cell_type": "code",
      "source": [
        "drive.mount('/content/drive')"
      ],
      "metadata": {
        "colab": {
          "base_uri": "https://localhost:8080/"
        },
        "id": "tu0_3O13P2IC",
        "outputId": "28515951-f1d2-4b25-ed41-b35564f17f08"
      },
      "execution_count": 4,
      "outputs": [
        {
          "output_type": "stream",
          "name": "stdout",
          "text": [
            "Mounted at /content/drive\n"
          ]
        }
      ]
    },
    {
      "cell_type": "code",
      "source": [
        "%cd drive/MyDrive/Goethe_Reference_List\\ /"
      ],
      "metadata": {
        "colab": {
          "base_uri": "https://localhost:8080/"
        },
        "id": "mlAKqS5pP6Em",
        "outputId": "80939b82-9de6-4b1d-dbb2-a1ea2bc591b6"
      },
      "execution_count": 5,
      "outputs": [
        {
          "output_type": "stream",
          "name": "stdout",
          "text": [
            "/content/drive/MyDrive/Goethe_Reference_List \n"
          ]
        }
      ]
    },
    {
      "cell_type": "markdown",
      "source": [
        "# Loading the dataset"
      ],
      "metadata": {
        "id": "8gMhzxhViZhZ"
      }
    },
    {
      "cell_type": "code",
      "source": [
        "# Load data\n",
        "ref_full = pd.read_csv(\"Fully_Recd_RefList.tsv\", sep='\\t')"
      ],
      "metadata": {
        "id": "_SX_ji6V5SFC"
      },
      "execution_count": 6,
      "outputs": []
    },
    {
      "cell_type": "code",
      "source": [
        "# Let's take a look at it\n",
        "ref_full"
      ],
      "metadata": {
        "colab": {
          "base_uri": "https://localhost:8080/",
          "height": 988
        },
        "id": "OswIldoJLYhZ",
        "outputId": "993371d4-eda9-4e0e-a8b1-73a85b65db2a"
      },
      "execution_count": 7,
      "outputs": [
        {
          "output_type": "execute_result",
          "data": {
            "text/plain": [
              "                   English Title               Original Title  Year  \\\n",
              "0              The Cabbage Fairy             La Fée aux Choux  1896   \n",
              "1             A Trip to the Moon       Le Voyage dans la Lune  1902   \n",
              "2    Life of an American Fireman  Life of an American Fireman  1903   \n",
              "3        The Great Train Robbery      The Great Train Robbery  1903   \n",
              "4               Rescued by Rover             Rescued by Rover  1905   \n",
              "..                           ...                          ...   ...   \n",
              "424                   Antichrist                   Antichrist  2009   \n",
              "425              The Hurt Locker              The Hurt Locker  2009   \n",
              "426            Police, Adjective                     Polițist  2009   \n",
              "427                       Tomboy                       Tomboy  2011   \n",
              "428                  Citizenfour                  Citizenfour  2014   \n",
              "\n",
              "     Duration(min) Decade                       Country  \\\n",
              "0                1  1890s                           FRA   \n",
              "1               16  1900s                           FRA   \n",
              "2                6  1900s                           USA   \n",
              "3               12  1900s                           USA   \n",
              "4                6  1900s                           GBR   \n",
              "..             ...    ...                           ...   \n",
              "424            104  2000s  DEU/ DNK/ FRA/ ITA/ POL/ SWE   \n",
              "425            131  2000s                           USA   \n",
              "426            115  2000s                           ROU   \n",
              "427             82  2010s                           FRA   \n",
              "428            114  2010s                 DEU/ GBR/ USA   \n",
              "\n",
              "                                    Director Director's Gender  \\\n",
              "0                           Alice Guy-Blaché            female   \n",
              "1                             Georges Méliès              male   \n",
              "2    Edwin Stanton Porter/ George S. Fleming        male/ male   \n",
              "3                       Edwin Stanton Porter              male   \n",
              "4            Lewin Fitzhamon/ Cecil Hepworth        male/ male   \n",
              "..                                       ...               ...   \n",
              "424                           Lars von Trier              male   \n",
              "425                          Kathryn Bigelow            female   \n",
              "426                       Corneliu Porumboiu              male   \n",
              "427                           Céline Sciamma            female   \n",
              "428                            Laura Poitras            female   \n",
              "\n",
              "                   Writer Writer's Gender  \\\n",
              "0               Alice Guy          female   \n",
              "1          Georges Méliès            male   \n",
              "2    Edwin Stanton Porter            male   \n",
              "3    Edwin Stanton Porter            male   \n",
              "4           Mrs. Hepworth          female   \n",
              "..                    ...             ...   \n",
              "424        Lars von Trier            male   \n",
              "425             Mark Boal            male   \n",
              "426    Corneliu Porumboiu            male   \n",
              "427        Céline Sciamma          female   \n",
              "428         Laura Poitras          female   \n",
              "\n",
              "                                                    DP  \\\n",
              "0                                                  NaN   \n",
              "1                                       Lucien Tainguy   \n",
              "2                                 Edwin Stanton Porter   \n",
              "3                                                  NaN   \n",
              "4                                       Cecil Hepworth   \n",
              "..                                                 ...   \n",
              "424                                 Anthony Dod Mantle   \n",
              "425                                      Barry Ackroyd   \n",
              "426                                                NaN   \n",
              "427                                   Crystel Fournier   \n",
              "428  Kirsten Johnson/ Trevor Paglen/ Laura Poitras/...   \n",
              "\n",
              "                      DP's Gender  \\\n",
              "0                             NaN   \n",
              "1                            male   \n",
              "2                            male   \n",
              "3                             NaN   \n",
              "4                            male   \n",
              "..                            ...   \n",
              "424                          male   \n",
              "425                          male   \n",
              "426                           NaN   \n",
              "427                        female   \n",
              "428  female/ male/ female/ female   \n",
              "\n",
              "                                              Producer  \\\n",
              "0                                                  NaN   \n",
              "1                                       Georges Méliès   \n",
              "2                                                  NaN   \n",
              "3                                 Edwin Stanton Porter   \n",
              "4                                       Cecil Hepworth   \n",
              "..                                                 ...   \n",
              "424                               Meta Louise Foldager   \n",
              "425       Kathryn Bigelow/ Mark Boal/ Nicolas Chartier   \n",
              "426                                                NaN   \n",
              "427                                 Bénédicte Couvreur   \n",
              "428  Mathilde Bonnefoy/ Kirsten Johnson/ Laura Poit...   \n",
              "\n",
              "                        Producer's Gender                            Genre  \\\n",
              "0                                     NaN                  Family/ Fantasy   \n",
              "1                                    male                Action/ Adventure   \n",
              "2                                     NaN                           Action   \n",
              "3                                    male                Action/ Adventure   \n",
              "4                                    male                     Crime/ Drama   \n",
              "..                                    ...                              ...   \n",
              "424                                female          Drama/ Horror/ Thriller   \n",
              "425                    female/ male/ male             Drama/ Thriller/ War   \n",
              "426                                   NaN                     Crime/ Drama   \n",
              "427                                  male                            Drama   \n",
              "428  female/ female/ female/ female/ male  Documentary/ Biography/ History   \n",
              "\n",
              "    Wikidata ID    IMDb ID  \n",
              "0      Q1139999  tt0223341  \n",
              "1       Q244971  tt0000417  \n",
              "2      Q1824475  tt0000447  \n",
              "3       Q470329  tt0000439  \n",
              "4      Q1333248  tt0000498  \n",
              "..          ...        ...  \n",
              "424     Q574998  tt0870984  \n",
              "425     Q183066  tt0887912  \n",
              "426    Q2913585  tt1337051  \n",
              "427     Q926083  tt1847731  \n",
              "428   Q18218448  tt4044364  \n",
              "\n",
              "[429 rows x 17 columns]"
            ],
            "text/html": [
              "\n",
              "  <div id=\"df-cc8e1931-d6b5-4b97-ae8a-3fa47216e4bd\">\n",
              "    <div class=\"colab-df-container\">\n",
              "      <div>\n",
              "<style scoped>\n",
              "    .dataframe tbody tr th:only-of-type {\n",
              "        vertical-align: middle;\n",
              "    }\n",
              "\n",
              "    .dataframe tbody tr th {\n",
              "        vertical-align: top;\n",
              "    }\n",
              "\n",
              "    .dataframe thead th {\n",
              "        text-align: right;\n",
              "    }\n",
              "</style>\n",
              "<table border=\"1\" class=\"dataframe\">\n",
              "  <thead>\n",
              "    <tr style=\"text-align: right;\">\n",
              "      <th></th>\n",
              "      <th>English Title</th>\n",
              "      <th>Original Title</th>\n",
              "      <th>Year</th>\n",
              "      <th>Duration(min)</th>\n",
              "      <th>Decade</th>\n",
              "      <th>Country</th>\n",
              "      <th>Director</th>\n",
              "      <th>Director's Gender</th>\n",
              "      <th>Writer</th>\n",
              "      <th>Writer's Gender</th>\n",
              "      <th>DP</th>\n",
              "      <th>DP's Gender</th>\n",
              "      <th>Producer</th>\n",
              "      <th>Producer's Gender</th>\n",
              "      <th>Genre</th>\n",
              "      <th>Wikidata ID</th>\n",
              "      <th>IMDb ID</th>\n",
              "    </tr>\n",
              "  </thead>\n",
              "  <tbody>\n",
              "    <tr>\n",
              "      <th>0</th>\n",
              "      <td>The Cabbage Fairy</td>\n",
              "      <td>La Fée aux Choux</td>\n",
              "      <td>1896</td>\n",
              "      <td>1</td>\n",
              "      <td>1890s</td>\n",
              "      <td>FRA</td>\n",
              "      <td>Alice Guy-Blaché</td>\n",
              "      <td>female</td>\n",
              "      <td>Alice Guy</td>\n",
              "      <td>female</td>\n",
              "      <td>NaN</td>\n",
              "      <td>NaN</td>\n",
              "      <td>NaN</td>\n",
              "      <td>NaN</td>\n",
              "      <td>Family/ Fantasy</td>\n",
              "      <td>Q1139999</td>\n",
              "      <td>tt0223341</td>\n",
              "    </tr>\n",
              "    <tr>\n",
              "      <th>1</th>\n",
              "      <td>A Trip to the Moon</td>\n",
              "      <td>Le Voyage dans la Lune</td>\n",
              "      <td>1902</td>\n",
              "      <td>16</td>\n",
              "      <td>1900s</td>\n",
              "      <td>FRA</td>\n",
              "      <td>Georges Méliès</td>\n",
              "      <td>male</td>\n",
              "      <td>Georges Méliès</td>\n",
              "      <td>male</td>\n",
              "      <td>Lucien Tainguy</td>\n",
              "      <td>male</td>\n",
              "      <td>Georges Méliès</td>\n",
              "      <td>male</td>\n",
              "      <td>Action/ Adventure</td>\n",
              "      <td>Q244971</td>\n",
              "      <td>tt0000417</td>\n",
              "    </tr>\n",
              "    <tr>\n",
              "      <th>2</th>\n",
              "      <td>Life of an American Fireman</td>\n",
              "      <td>Life of an American Fireman</td>\n",
              "      <td>1903</td>\n",
              "      <td>6</td>\n",
              "      <td>1900s</td>\n",
              "      <td>USA</td>\n",
              "      <td>Edwin Stanton Porter/ George S. Fleming</td>\n",
              "      <td>male/ male</td>\n",
              "      <td>Edwin Stanton Porter</td>\n",
              "      <td>male</td>\n",
              "      <td>Edwin Stanton Porter</td>\n",
              "      <td>male</td>\n",
              "      <td>NaN</td>\n",
              "      <td>NaN</td>\n",
              "      <td>Action</td>\n",
              "      <td>Q1824475</td>\n",
              "      <td>tt0000447</td>\n",
              "    </tr>\n",
              "    <tr>\n",
              "      <th>3</th>\n",
              "      <td>The Great Train Robbery</td>\n",
              "      <td>The Great Train Robbery</td>\n",
              "      <td>1903</td>\n",
              "      <td>12</td>\n",
              "      <td>1900s</td>\n",
              "      <td>USA</td>\n",
              "      <td>Edwin Stanton Porter</td>\n",
              "      <td>male</td>\n",
              "      <td>Edwin Stanton Porter</td>\n",
              "      <td>male</td>\n",
              "      <td>NaN</td>\n",
              "      <td>NaN</td>\n",
              "      <td>Edwin Stanton Porter</td>\n",
              "      <td>male</td>\n",
              "      <td>Action/ Adventure</td>\n",
              "      <td>Q470329</td>\n",
              "      <td>tt0000439</td>\n",
              "    </tr>\n",
              "    <tr>\n",
              "      <th>4</th>\n",
              "      <td>Rescued by Rover</td>\n",
              "      <td>Rescued by Rover</td>\n",
              "      <td>1905</td>\n",
              "      <td>6</td>\n",
              "      <td>1900s</td>\n",
              "      <td>GBR</td>\n",
              "      <td>Lewin Fitzhamon/ Cecil Hepworth</td>\n",
              "      <td>male/ male</td>\n",
              "      <td>Mrs. Hepworth</td>\n",
              "      <td>female</td>\n",
              "      <td>Cecil Hepworth</td>\n",
              "      <td>male</td>\n",
              "      <td>Cecil Hepworth</td>\n",
              "      <td>male</td>\n",
              "      <td>Crime/ Drama</td>\n",
              "      <td>Q1333248</td>\n",
              "      <td>tt0000498</td>\n",
              "    </tr>\n",
              "    <tr>\n",
              "      <th>...</th>\n",
              "      <td>...</td>\n",
              "      <td>...</td>\n",
              "      <td>...</td>\n",
              "      <td>...</td>\n",
              "      <td>...</td>\n",
              "      <td>...</td>\n",
              "      <td>...</td>\n",
              "      <td>...</td>\n",
              "      <td>...</td>\n",
              "      <td>...</td>\n",
              "      <td>...</td>\n",
              "      <td>...</td>\n",
              "      <td>...</td>\n",
              "      <td>...</td>\n",
              "      <td>...</td>\n",
              "      <td>...</td>\n",
              "      <td>...</td>\n",
              "    </tr>\n",
              "    <tr>\n",
              "      <th>424</th>\n",
              "      <td>Antichrist</td>\n",
              "      <td>Antichrist</td>\n",
              "      <td>2009</td>\n",
              "      <td>104</td>\n",
              "      <td>2000s</td>\n",
              "      <td>DEU/ DNK/ FRA/ ITA/ POL/ SWE</td>\n",
              "      <td>Lars von Trier</td>\n",
              "      <td>male</td>\n",
              "      <td>Lars von Trier</td>\n",
              "      <td>male</td>\n",
              "      <td>Anthony Dod Mantle</td>\n",
              "      <td>male</td>\n",
              "      <td>Meta Louise Foldager</td>\n",
              "      <td>female</td>\n",
              "      <td>Drama/ Horror/ Thriller</td>\n",
              "      <td>Q574998</td>\n",
              "      <td>tt0870984</td>\n",
              "    </tr>\n",
              "    <tr>\n",
              "      <th>425</th>\n",
              "      <td>The Hurt Locker</td>\n",
              "      <td>The Hurt Locker</td>\n",
              "      <td>2009</td>\n",
              "      <td>131</td>\n",
              "      <td>2000s</td>\n",
              "      <td>USA</td>\n",
              "      <td>Kathryn Bigelow</td>\n",
              "      <td>female</td>\n",
              "      <td>Mark Boal</td>\n",
              "      <td>male</td>\n",
              "      <td>Barry Ackroyd</td>\n",
              "      <td>male</td>\n",
              "      <td>Kathryn Bigelow/ Mark Boal/ Nicolas Chartier</td>\n",
              "      <td>female/ male/ male</td>\n",
              "      <td>Drama/ Thriller/ War</td>\n",
              "      <td>Q183066</td>\n",
              "      <td>tt0887912</td>\n",
              "    </tr>\n",
              "    <tr>\n",
              "      <th>426</th>\n",
              "      <td>Police, Adjective</td>\n",
              "      <td>Polițist</td>\n",
              "      <td>2009</td>\n",
              "      <td>115</td>\n",
              "      <td>2000s</td>\n",
              "      <td>ROU</td>\n",
              "      <td>Corneliu Porumboiu</td>\n",
              "      <td>male</td>\n",
              "      <td>Corneliu Porumboiu</td>\n",
              "      <td>male</td>\n",
              "      <td>NaN</td>\n",
              "      <td>NaN</td>\n",
              "      <td>NaN</td>\n",
              "      <td>NaN</td>\n",
              "      <td>Crime/ Drama</td>\n",
              "      <td>Q2913585</td>\n",
              "      <td>tt1337051</td>\n",
              "    </tr>\n",
              "    <tr>\n",
              "      <th>427</th>\n",
              "      <td>Tomboy</td>\n",
              "      <td>Tomboy</td>\n",
              "      <td>2011</td>\n",
              "      <td>82</td>\n",
              "      <td>2010s</td>\n",
              "      <td>FRA</td>\n",
              "      <td>Céline Sciamma</td>\n",
              "      <td>female</td>\n",
              "      <td>Céline Sciamma</td>\n",
              "      <td>female</td>\n",
              "      <td>Crystel Fournier</td>\n",
              "      <td>female</td>\n",
              "      <td>Bénédicte Couvreur</td>\n",
              "      <td>male</td>\n",
              "      <td>Drama</td>\n",
              "      <td>Q926083</td>\n",
              "      <td>tt1847731</td>\n",
              "    </tr>\n",
              "    <tr>\n",
              "      <th>428</th>\n",
              "      <td>Citizenfour</td>\n",
              "      <td>Citizenfour</td>\n",
              "      <td>2014</td>\n",
              "      <td>114</td>\n",
              "      <td>2010s</td>\n",
              "      <td>DEU/ GBR/ USA</td>\n",
              "      <td>Laura Poitras</td>\n",
              "      <td>female</td>\n",
              "      <td>Laura Poitras</td>\n",
              "      <td>female</td>\n",
              "      <td>Kirsten Johnson/ Trevor Paglen/ Laura Poitras/...</td>\n",
              "      <td>female/ male/ female/ female</td>\n",
              "      <td>Mathilde Bonnefoy/ Kirsten Johnson/ Laura Poit...</td>\n",
              "      <td>female/ female/ female/ female/ male</td>\n",
              "      <td>Documentary/ Biography/ History</td>\n",
              "      <td>Q18218448</td>\n",
              "      <td>tt4044364</td>\n",
              "    </tr>\n",
              "  </tbody>\n",
              "</table>\n",
              "<p>429 rows × 17 columns</p>\n",
              "</div>\n",
              "      <button class=\"colab-df-convert\" onclick=\"convertToInteractive('df-cc8e1931-d6b5-4b97-ae8a-3fa47216e4bd')\"\n",
              "              title=\"Convert this dataframe to an interactive table.\"\n",
              "              style=\"display:none;\">\n",
              "        \n",
              "  <svg xmlns=\"http://www.w3.org/2000/svg\" height=\"24px\"viewBox=\"0 0 24 24\"\n",
              "       width=\"24px\">\n",
              "    <path d=\"M0 0h24v24H0V0z\" fill=\"none\"/>\n",
              "    <path d=\"M18.56 5.44l.94 2.06.94-2.06 2.06-.94-2.06-.94-.94-2.06-.94 2.06-2.06.94zm-11 1L8.5 8.5l.94-2.06 2.06-.94-2.06-.94L8.5 2.5l-.94 2.06-2.06.94zm10 10l.94 2.06.94-2.06 2.06-.94-2.06-.94-.94-2.06-.94 2.06-2.06.94z\"/><path d=\"M17.41 7.96l-1.37-1.37c-.4-.4-.92-.59-1.43-.59-.52 0-1.04.2-1.43.59L10.3 9.45l-7.72 7.72c-.78.78-.78 2.05 0 2.83L4 21.41c.39.39.9.59 1.41.59.51 0 1.02-.2 1.41-.59l7.78-7.78 2.81-2.81c.8-.78.8-2.07 0-2.86zM5.41 20L4 18.59l7.72-7.72 1.47 1.35L5.41 20z\"/>\n",
              "  </svg>\n",
              "      </button>\n",
              "      \n",
              "  <style>\n",
              "    .colab-df-container {\n",
              "      display:flex;\n",
              "      flex-wrap:wrap;\n",
              "      gap: 12px;\n",
              "    }\n",
              "\n",
              "    .colab-df-convert {\n",
              "      background-color: #E8F0FE;\n",
              "      border: none;\n",
              "      border-radius: 50%;\n",
              "      cursor: pointer;\n",
              "      display: none;\n",
              "      fill: #1967D2;\n",
              "      height: 32px;\n",
              "      padding: 0 0 0 0;\n",
              "      width: 32px;\n",
              "    }\n",
              "\n",
              "    .colab-df-convert:hover {\n",
              "      background-color: #E2EBFA;\n",
              "      box-shadow: 0px 1px 2px rgba(60, 64, 67, 0.3), 0px 1px 3px 1px rgba(60, 64, 67, 0.15);\n",
              "      fill: #174EA6;\n",
              "    }\n",
              "\n",
              "    [theme=dark] .colab-df-convert {\n",
              "      background-color: #3B4455;\n",
              "      fill: #D2E3FC;\n",
              "    }\n",
              "\n",
              "    [theme=dark] .colab-df-convert:hover {\n",
              "      background-color: #434B5C;\n",
              "      box-shadow: 0px 1px 3px 1px rgba(0, 0, 0, 0.15);\n",
              "      filter: drop-shadow(0px 1px 2px rgba(0, 0, 0, 0.3));\n",
              "      fill: #FFFFFF;\n",
              "    }\n",
              "  </style>\n",
              "\n",
              "      <script>\n",
              "        const buttonEl =\n",
              "          document.querySelector('#df-cc8e1931-d6b5-4b97-ae8a-3fa47216e4bd button.colab-df-convert');\n",
              "        buttonEl.style.display =\n",
              "          google.colab.kernel.accessAllowed ? 'block' : 'none';\n",
              "\n",
              "        async function convertToInteractive(key) {\n",
              "          const element = document.querySelector('#df-cc8e1931-d6b5-4b97-ae8a-3fa47216e4bd');\n",
              "          const dataTable =\n",
              "            await google.colab.kernel.invokeFunction('convertToInteractive',\n",
              "                                                     [key], {});\n",
              "          if (!dataTable) return;\n",
              "\n",
              "          const docLinkHtml = 'Like what you see? Visit the ' +\n",
              "            '<a target=\"_blank\" href=https://colab.research.google.com/notebooks/data_table.ipynb>data table notebook</a>'\n",
              "            + ' to learn more about interactive tables.';\n",
              "          element.innerHTML = '';\n",
              "          dataTable['output_type'] = 'display_data';\n",
              "          await google.colab.output.renderOutput(dataTable, element);\n",
              "          const docLink = document.createElement('div');\n",
              "          docLink.innerHTML = docLinkHtml;\n",
              "          element.appendChild(docLink);\n",
              "        }\n",
              "      </script>\n",
              "    </div>\n",
              "  </div>\n",
              "  "
            ]
          },
          "metadata": {},
          "execution_count": 7
        }
      ]
    },
    {
      "cell_type": "code",
      "source": [
        "# Datatypes of each column\n",
        "ref_full.dtypes"
      ],
      "metadata": {
        "colab": {
          "base_uri": "https://localhost:8080/"
        },
        "id": "zRkyu_W23jd-",
        "outputId": "53928e02-81ac-456e-bc5e-bc21067bb021"
      },
      "execution_count": 8,
      "outputs": [
        {
          "output_type": "execute_result",
          "data": {
            "text/plain": [
              "English Title        object\n",
              "Original Title       object\n",
              "Year                  int64\n",
              "Duration(min)         int64\n",
              "Decade               object\n",
              "Country              object\n",
              "Director             object\n",
              "Director's Gender    object\n",
              "Writer               object\n",
              "Writer's Gender      object\n",
              "DP                   object\n",
              "DP's Gender          object\n",
              "Producer             object\n",
              "Producer's Gender    object\n",
              "Genre                object\n",
              "Wikidata ID          object\n",
              "IMDb ID              object\n",
              "dtype: object"
            ]
          },
          "metadata": {},
          "execution_count": 8
        }
      ]
    },
    {
      "cell_type": "markdown",
      "source": [
        "# Plotting Film Year vs. Duration\n",
        "There are only two variables which are numerical, year and duration. Let's see how film's durations have fluctuated with time."
      ],
      "metadata": {
        "id": "_x1qAPcdi14L"
      }
    },
    {
      "cell_type": "code",
      "source": [
        "# Set graphs' stlye\n",
        "plt.style.use('fivethirtyeight')"
      ],
      "metadata": {
        "id": "iQisVNC1k1Sb"
      },
      "execution_count": 9,
      "outputs": []
    },
    {
      "cell_type": "code",
      "source": [
        "sns.scatterplot(data=ref_full, x='Year', y=\"Duration(min)\", color=\"teal\").set_title(\"Film Reference List: Year vs Duration\") # Make regular scatterplot\n",
        "plt.savefig(\"Year_vs_Duration.jpg\", dpi=250, bbox_inches='tight')"
      ],
      "metadata": {
        "colab": {
          "base_uri": "https://localhost:8080/",
          "height": 325
        },
        "id": "FfdaE9G42ql6",
        "outputId": "47377485-6f4b-4768-8062-c48eab4237d9"
      },
      "execution_count": 10,
      "outputs": [
        {
          "output_type": "display_data",
          "data": {
            "text/plain": [
              "<Figure size 432x288 with 1 Axes>"
            ],
            "image/png": "[encoded data removed]"
          },
          "metadata": {}
        }
      ]
    },
    {
      "cell_type": "markdown",
      "source": [
        "It looks like some outliers are interferring with our hability to see the relationship. Given how lengthy some of those are, I'm guessing they are series, rather than single feature films. Let's make an interactive plot so we can hover over the points and see the title of each film to see if that's true. We can also select an area of the plot to Zoom in."
      ],
      "metadata": {
        "id": "_wP20Pxl5_YY"
      }
    },
    {
      "cell_type": "code",
      "source": [
        "# Interactive plot\n",
        "fig = px.scatter(ref_full, x='Year', y=\"Duration(min)\", hover_name=\"English Title\")\n",
        "fig.show()"
      ],
      "metadata": {
        "colab": {
          "base_uri": "https://localhost:8080/",
          "height": 542
        },
        "id": "Rx7t__ZJ50h8",
        "outputId": "c248a653-c4ad-4afc-d667-a7b1ce7a2138"
      },
      "execution_count": 11,
      "outputs": [
        {
          "output_type": "display_data",
          "data": {
            "text/html": [
              "<html>\n",
              "<head><meta charset=\"utf-8\" /></head>\n",
              "<body>\n",
              "    <div>            <script src=\"https://cdnjs.cloudflare.com/ajax/libs/mathjax/2.7.5/MathJax.js?config=TeX-AMS-MML_SVG\"></script><script type=\"text/javascript\">if (window.MathJax) {MathJax.Hub.Config({SVG: {font: \"STIX-Web\"}});}</script>                <script type=\"text/javascript\">window.PlotlyConfig = {MathJaxConfig: 'local'};</script>\n",
              "        <script src=\"https://cdn.plot.ly/plotly-2.8.3.min.js\"></script>                <div id=\"31b48d9b-f2f6-4ffc-bb2c-7d06f29a9153\" class=\"plotly-graph-div\" style=\"height:525px; width:100%;\"></div>            <script type=\"text/javascript\">                                    window.PLOTLYENV=window.PLOTLYENV || {};                                    if (document.getElementById(\"31b48d9b-f2f6-4ffc-bb2c-7d06f29a9153\")) {                    Plotly.newPlot(                        \"31b48d9b-f2f6-4ffc-bb2c-7d06f29a9153\",                        [{\"hovertemplate\":\"<b>%{hovertext}</b><br><br>Year=%{x}<br>Duration(min)=%{y}<extra></extra>\",\"hovertext\":[\"The Cabbage Fairy\",\"A Trip to the Moon\",\"Life of an American Fireman\",\"The Great Train Robbery\",\"Rescued by Rover\",\"A Corner in Wheat\",\"The Abyss\",\"The Lonedale Operator\",\"Fantomas: In the Shadow of the Guillotine\",\"Suspense\",\"Cabiria\",\"The Squaw Man\",\"The Birth of a Nation\",\"Carmen\",\"Burlesque on Carmen\",\"Intolerance\",\"The Cabinet of Dr. Caligari\",\"One Week\",\"Rhythmus 21\",\"Destiny\",\"Nosferatu\",\"Nanook of the North\",\"Dr. Mabuse the Gambler\",\"'A Santanotte\",\"The Ten Commandments\",\"La Roue\",\"Entr'acte\",\"Ballet M\\u00e9canique\",\"Greed\",\"Battleship Potemkin\",\"Strike\",\"The Gold Rush\",\"A Page of Madness\",\"Mother\",\"October: Ten Days That Shook the World\",\"The Jazz Singer\",\"Berlin: Symphony of a Metropolis\",\"Sunrise: A Song of Two Humans\",\"The General\",\"Napol\\u00e9on\",\"Metropolis\",\"The Fall of the Romanov Dinasty\",\"Steamboat Willie\",\"The Passion of Joan of Arc\",\"The Fall of the House of Usher\",\"The Seashell and the Clergyman\",\"The Crowd\",\"Man with a Movie Camera\",\"Rain\",\"Un chien andalou\",\"Pandora's Box\",\"Drifters\",\"Morocco\",\"The Blue Angel\",\"L\\u2019Age d\\u2019Or\",\"Earth\",\"The Public Enemy\",\"Frankenstein\",\"M\",\"Le Million\",\"Tabu\",\"Dracula\",\"Girls in Uniform\",\"Tarzan the Ape Man\",\"Trouble in Paradise\",\"I was Born, But...\",\"Vampyr\",\"The Blood of a Poet\",\"She Done Him Wrong\",\"King Kong\",\"Duck Soup\",\"Queen Christina\",\"Land Without Bread\",\"Zero for Conduct\",\"The Testament of Dr. Mabuse\",\"42nd Street\",\"Ecstasy\",\"It Happened One Night\",\"L'Atalante\",\"The Seahorse\",\"The Goddess\",\"39 Steps\",\"Triumph of the Will\",\"Top Hat\",\"Yiddle With His Fiddle\",\"Night Mail\",\"Modern Times\",\"Fury\",\"La Grande Illusion\",\"Rose Hobart\",\"Weddad\",\"Stella Dallas\",\"Snow White and the Seven Dwarfs\",\"Olympia\",\"Bringing Up Baby\",\"Gone with the Wind\",\"Stagecoach\",\"Ninotchka\",\"Wizard of Oz\",\"The Rules of the Game\",\"The Story of the Last Chrysanthemum\",\"Rebecca\",\"Citizen Kane\",\"Dance, Girl, Dance\",\"The Great Dictator\",\"Tarantella\",\"The Maltese Falcon\",\"To Be or Not to Be\",\"Casablanca\",\"Meshes of the Afternoon\",\"Mar\\u00eda Candelaria\",\"Meet Me in St. Louis\",\"Laura\",\"Ivan the Terrible \",\"Mildred Pierce\",\"Children of Paradise\",\"Roma, Open City\",\"A Study in Choreography for Camera\",\"Brief Encounter\",\"The Best Years of our Lives\",\"Murderers Among Us\",\"Fireworks\",\"Blood of the Beasts\",\"The Red Shoes\",\"Germany, Year Zero\",\"Bicycle Thieves\",\"La Negra Angustias\",\"Sunset Boulevard\",\"All About Eve\",\"Rashomon\",\"Orpheus\",\"Los Olvidados\",\"A Song of Love\",\"An American in Paris\",\"Miracle in Milan\",\"Baazi\",\"The Thing from Another World\",\"Singin' in the Rain\",\"Toxi\",\"Ugetsu\",\"La strada\",\"The Wages of Fear\",\"Journey to Italy\",\"Tokyo Story\",\"A Star Is Born\",\"The Big Heat\",\"Gilda\",\"Sansho the Bailiff\",\"On the Waterfront\",\"Seven Samurai\",\"Les Ma\\u00eetres fous\",\"Rebel Without a Cause\",\"Lola Mont\\u00e8s\",\"The Night of the Hunter\",\"The Mystery of Picasso\",\"Pather Patchali\",\"Devdas\",\"Written on the Wind\",\"The Searchers\",\"Night and Fog\",\"Early Spring\",\"Bob le flambeur\",\"Mother India\",\"Wild Strawberries\",\"The Seventh Seal\",\"Some Like It Hot\",\"Mon oncle\",\"Touch of Evil\",\"The Music Room\",\"Elevator to the Gallows\",\"Vertigo\",\"Ashes and Diamonds\",\"Cairo Station\",\"A Movie\",\"Paper Flowers\",\"Imitation of Life\",\"Hiroshima mon amour\",\"Breathless\",\"The 400 Blows \",\"Pickpocket\",\"The Flower Thief\",\"Psycho\",\"Peeping Tom\",\"La Dolce Vita\",\"The Emperor of the Mughals\",\"Chronicle of a Summer\",\"Primary\",\"L'Avventura\",\"Rocco and his Brothers\",\"Tire di\\u00e9\",\"Arnulf Rainer\",\"Accattone\",\"Last Year at Marienbad\",\"La notte\",\"The Connection\",\"Knife in the Water \",\"Lawrence of Arabia\",\"An Actor\\u2019s Revenge\",\"La Jet\\u00e9e\",\"Cl\\u00e9o de 5 \\u00e0 7\",\"The Leopard\",\"Scorpio Rising\",\"The Birds\",\"Contempt\",\"Barren Lives\",\"8\\u00bd\",\"Mothlight\",\"Dog Star Man\",\"Flaming Creatures\",\"Andrei Rublev\",\"Gertrud\",\"Blow Job\",\"The Umbrellas of Cherbourg\",\"Dr. Strangelove\",\"Fuses\",\"Yesterday Girl\",\"Repulsion\",\"Now\",\"Blowup\",\"The Battle of Algiers\",\"Come Drink with Me\",\"Teesri Kasam\",\"Persona\",\"Chelsea Girls\",\"Au Hasard Balthazar\",\"Daisies\",\"Hold Me While I'm Naked\",\"Our Trip to Africa\",\"Playtime\",\"Entranced Earth\",\"Bonnie and Clyde\",\"The Graduate\",\"Wavelength\",\"15 / 67: TV\",\"The Chronicle of Anna Magdalena Bach\",\"If\\u2026\",\"Night of the Living Dead\",\"Rohfilm\",\"Luc\\u00eda\",\"Memories of Underdevelopment\",\"Teorema\",\"The Color of Pomegranates\",\"Deux Fois\",\"Three Sad Tigers\",\"The Girls\",\"The Cat Has Nine Lives\",\"Death by Hanging\",\"2001: A Space Odissey\",\"The Sorrow and the Pity\",\"Kes\",\"Katzelmacher\",\"Salesman\",\"Eika Katappa\",\"Tom, Tom, the Piper's Son\",\"My Night at Maud's\",\"The Wild Bunch\",\"Reason Over Passion\",\"Blood of the Condor\",\"Early Works\",\"The Conformist\",\"The Hour of the Furnaces\",\"Five Easy Pieces\",\"Zorns Lemma\",\"It Is Not the Homosexual Who Is Perverse, But the Society in Which He Lives\",\"W.R.: Mysteries of the Organism\",\"Dirty Harry\",\"Wanda\",\"The Godfather\",\"Nathalie Granger\",\"Pakeezah\",\"The Discreet Charm of the Bourgeoisie\",\"Cabaret\",\"Aguirre, the Wrath of God\",\"Fist of Fury\",\"The Legend of Paul and Paula\",\"Day for Night \",\"The Conversation\",\"The Godfather Part II\",\"Ali: Fear Eats the Soul\",\"Celine and Julie Go Boating\",\"Chinatown\",\"Hearts and Minds\",\"A Woman Under the Influence\",\"Der Nachtportier\",\"Film About a Woman Who...\",\"Primate\",\"Jaws\",\"One Flew Over the Cuckoo's Nest\\n\",\"India Song\",\"Jeanne Dielman, 23 quai du Commerce, 1080 Bruxelles \",\"Taxi Driver\",\"Raise Ravens \",\"Sholay\",\"The Travelling Players \",\"Lost, Lost, Lost\",\"Seven Beauties\",\"All the President\\u2019s Men\",\"In the Realm of the Senses\",\"Jonah Who Will Be 25 in the Year 2000\",\"Nashville\",\"Invisible Adversaries\",\"Kings of the Road \",\"Killer of Sheep\",\"Man of Marble \",\"Saturday Night Fever\",\"Annie Hall\",\"Ceddo\",\"Perfumed Nightmare\",\"Colloque de chiens\",\"Star Wars\",\"Riddles of the Sphinx\",\"Madame X. Eine Absolute Herrscherin\",\"The Marriage of Maria Braun\",\"The All-Around Reduced Personality: Outtakes\",\"Alexandria\\u2026 Why?\",\"Ich denke oft an Hawaii\",\"One Way Boogie Woogie\",\"The Shining\",\"Alien\",\"Apocalypse Now\",\"Camera Buff\",\"All That Jazz\",\"Stalker\",\"Berlin Alexanderplatz\",\"Marianne and Juliane\",\"Raiders of the Lost Ark\",\"Fanny and Alexander\",\"First Blood\",\"Diva\",\"Blade Runner\",\"Sans Soleil\",\"Yol\",\"Passion\",\"Reassemblage\",\"Videodrome\",\"The Ballad of Narayama\",\"Born in Flames\",\"Stranger Than Paradise\",\"The Terminator\",\"Yeleen\",\"Heimat\",\"Yellow Earth\",\"Shoah\",\"The Horse Thief\",\"My Beautiful Laundrette\",\"The Purple Rose of Cairo\",\"Alpine Fire\",\"The Time to Live and a Time to Die\",\"Peking Opera Blues\",\"Blue Velvet\",\"The Peddler\",\"A Better Tomorrow\",\"Bashu, the Little Stranger\",\"Top Gun\",\"Handsworth Songs\",\"Wedding in Gallilee\",\"Where Is the Friend s Home?\",\"A Chinese Ghost Story\",\"Family Viewing\",\"Images of the World and the Inscription of War\",\"Time of the Gypsies\",\"Histoire(s) du cin\\u00e9ma\\n\",\"The Thin Blue Line\",\"Salaam Bombay!\",\"Roger & Me\",\"Sex, Lies, and Videotape\",\"Looking for Langston\",\"Tongues Untied\",\"Do the Right Thing\",\"A City of Sadness\",\"Virgin Machine\",\"Goodfellas\",\"Close-Up\",\"Home Stories\",\"Song of the Exile\",\"Paris Is Burning\",\"Thelma & Louise\",\"Videograms of a Revolution\\n\",\"JFK\",\"A Brighter Summer Day\",\"Raise the Red Lantern \",\"Daughters of the Dust\",\"Center Stage\",\"Unforgiven\",\"Orlando\",\"Living in Bondage\",\"Blue\",\"D'Est\",\"Chungking Express\",\"Pulp Fiction\",\"S\\u00e1t\\u00e1ntang\\u00f3\",\"Hum Aapke Hain Koun..!\",\"The Silences of the Palace\",\"Dilwale Dulhania Le Jayenge\",\"Safe\",\"Chronicle of a Disappearance\",\"Fire\",\"The Watermelon Woman\",\"Mother and Son\",\"Exil Shanghai\",\"The Big Lebowski\",\"From the Heart\",\"The Thin Red Line\",\"Beau Travail\",\"Rosetta\",\"Romance\",\"Boys Don't Cry\\n\",\"In the Mood For Love\",\"The Circle\",\"Crouching Tiger, Hidden Dragon\",\"What Time Is it There?\",\"Infernal Affairs\",\"Distant\",\"Spring, Summer, Winter...and Spring\",\"Tropical Malady\",\"Waiting for the Clouds\",\"Marseille\",\"Cach\\u00e9\",\"Grizzly Man\",\"Still Life\",\"Forever\",\"Om Shanti Om \",\"Waltz with Bashir\",\"Z32\",\"Antichrist\",\"The Hurt Locker\",\"Police, Adjective\",\"Tomboy\",\"Citizenfour\"],\"legendgroup\":\"\",\"marker\":{\"color\":\"#636efa\",\"symbol\":\"circle\"},\"mode\":\"markers\",\"name\":\"\",\"orientation\":\"v\",\"showlegend\":false,\"x\":[1896,1902,1903,1903,1905,1909,1910,1911,1913,1913,1914,1914,1915,1915,1915,1916,1920,1920,1921,1921,1922,1922,1922,1922,1923,1923,1924,1924,1924,1925,1925,1925,1926,1926,1927,1927,1927,1927,1927,1927,1927,1927,1928,1928,1928,1928,1928,1929,1929,1929,1929,1929,1930,1930,1930,1930,1931,1931,1931,1931,1931,1931,1931,1932,1932,1932,1932,1932,1933,1933,1933,1933,1933,1933,1933,1933,1933,1934,1934,1935,1934,1935,1935,1935,1936,1936,1936,1936,1937,1936,1936,1937,1937,1938,1938,1939,1939,1939,1939,1939,1939,1940,1941,1940,1940,1941,1941,1942,1942,1943,1944,1944,1944,1945,1945,1945,1945,1946,1945,1946,1946,1947,1949,1948,1948,1948,1949,1950,1950,1950,1950,1950,1950,1951,1951,1951,1951,1952,1952,1953,1954,1953,1954,1953,1954,1953,1946,1954,1954,1954,1955,1955,1955,1955,1956,1955,1955,1956,1956,1955,1956,1956,1957,1957,1957,1959,1958,1958,1958,1958,1958,1958,1958,1958,1959,1959,1959,1960,1959,1959,1960,1960,1960,1960,1960,1961,1960,1960,1960,1960,1960,1961,1961,1961,1961,1962,1962,1963,1962,1962,1963,1963,1963,1963,1963,1963,1963,1961,1963,1966,1965,1964,1964,1964,1964,1966,1965,1965,1966,1966,1966,1966,1966,1966,1966,1966,1966,1966,1967,1967,1967,1967,1967,1967,1968,1968,1968,1968,1968,1968,1968,1968,1968,1968,1968,1968,1968,1968,1969,1969,1969,1969,1969,1969,1969,1969,1969,1969,1969,1970,1968,1970,1970,1970,1971,1971,1971,1972,1972,1972,1972,1972,1972,1972,1973,1973,1974,1974,1974,1974,1974,1974,1974,1974,1974,1974,1975,1975,1975,1975,1976,1976,1975,1975,1975,1975,1976,1976,1976,1975,1978,1976,1977,1977,1977,1977,1977,1977,1977,1977,1977,1978,1979,1978,1979,1978,1978,1980,1979,1979,1979,1979,1979,1980,1981,1981,1982,1982,1981,1982,1982,1982,1982,1982,1983,1983,1983,1984,1984,1987,1984,1984,1985,1985,1985,1985,1985,1985,1986,1986,1986,1986,1986,1986,1986,1987,1987,1987,1987,1988,1988,1988,1988,1988,1989,1989,1989,1989,1989,1989,1989,1990,1990,1990,1990,1990,1991,1991,1991,1991,1991,1991,1992,1992,1992,1992,1993,1993,1994,1994,1994,1994,1994,1995,1995,1996,1996,1996,1997,1997,1998,1998,1998,1999,1999,1999,1999,2000,2000,2003,2001,2002,2002,2003,2004,2004,2004,2005,2005,2006,2006,2007,2008,2008,2009,2009,2009,2011,2014],\"xaxis\":\"x\",\"y\":[1,16,6,12,6,14,38,17,54,10,168,74,187,59,37,197,77,22,4,105,94,78,270,60,146,273,22,19,462,74,82,96,60,88,102,88,65,91,75,330,153,90,7,110,61,44,104,68,12,16,143,49,88,108,60,78,83,71,117,81,81,75,98,99,83,91,75,55,68,100,68,97,30,44,115,89,95,105,89,13,85,86,114,101,92,24,99,89,124,19,130,106,83,226,102,238,97,110,98,110,142,126,119,90,125,4,101,93,102,14,76,113,88,96,111,190,100,4,85,172,85,20,22,133,78,90,82,110,138,88,95,77,26,108,100,143,83,103,89,96,104,148,81,136,181,89,110,120,108,207,36,106,115,89,78,120,159,99,119,32,144,98,172,92,96,120,117,93,95,88,128,97,77,12,153,124,90,87,99,75,70,109,101,174,173,90,60,145,177,33,7,120,94,122,110,90,216,115,28,90,183,28,115,102,103,138,4,78,45,185,119,35,91,93,22,88,104,5,111,117,91,159,84,195,95,74,17,13,126,111,107,102,44,4,94,111,96,20,160,97,98,79,115,100,100,91,117,143,251,106,88,91,144,115,110,145,80,70,87,111,264,96,60,67,84,102,102,175,83,146,96,124,91,115,105,115,109,202,93,193,131,112,155,118,90,105,124,133,120,201,114,112,204,230,178,115,138,105,110,159,109,168,83,157,118,93,120,93,22,121,92,147,115,98,133,84,60,144,117,153,109,123,163,931,106,115,188,93,123,112,100,114,87,40,89,130,80,89,108,105,924,89,540,88,93,82,114,138,104,121,95,95,120,110,61,113,83,92,86,75,135,267,103,113,91,101,45,55,120,158,84,146,98,6,100,71,129,106,189,237,125,112,126,131,94,163,76,107,102,154,450,206,127,245,119,88,104,90,73,275,117,163,166,92,93,99,118,98,88,115,116,97,109,103,118,94,95,117,103,111,95,169,87,81,104,131,115,82,114],\"yaxis\":\"y\",\"type\":\"scatter\"}],                        {\"template\":{\"data\":{\"bar\":[{\"error_x\":{\"color\":\"#2a3f5f\"},\"error_y\":{\"color\":\"#2a3f5f\"},\"marker\":{\"line\":{\"color\":\"#E5ECF6\",\"width\":0.5},\"pattern\":{\"fillmode\":\"overlay\",\"size\":10,\"solidity\":0.2}},\"type\":\"bar\"}],\"barpolar\":[{\"marker\":{\"line\":{\"color\":\"#E5ECF6\",\"width\":0.5},\"pattern\":{\"fillmode\":\"overlay\",\"size\":10,\"solidity\":0.2}},\"type\":\"barpolar\"}],\"carpet\":[{\"aaxis\":{\"endlinecolor\":\"#2a3f5f\",\"gridcolor\":\"white\",\"linecolor\":\"white\",\"minorgridcolor\":\"white\",\"startlinecolor\":\"#2a3f5f\"},\"baxis\":{\"endlinecolor\":\"#2a3f5f\",\"gridcolor\":\"white\",\"linecolor\":\"white\",\"minorgridcolor\":\"white\",\"startlinecolor\":\"#2a3f5f\"},\"type\":\"carpet\"}],\"choropleth\":[{\"colorbar\":{\"outlinewidth\":0,\"ticks\":\"\"},\"type\":\"choropleth\"}],\"contour\":[{\"colorbar\":{\"outlinewidth\":0,\"ticks\":\"\"},\"colorscale\":[[0.0,\"#0d0887\"],[0.1111111111111111,\"#46039f\"],[0.2222222222222222,\"#7201a8\"],[0.3333333333333333,\"#9c179e\"],[0.4444444444444444,\"#bd3786\"],[0.5555555555555556,\"#d8576b\"],[0.6666666666666666,\"#ed7953\"],[0.7777777777777778,\"#fb9f3a\"],[0.8888888888888888,\"#fdca26\"],[1.0,\"#f0f921\"]],\"type\":\"contour\"}],\"contourcarpet\":[{\"colorbar\":{\"outlinewidth\":0,\"ticks\":\"\"},\"type\":\"contourcarpet\"}],\"heatmap\":[{\"colorbar\":{\"outlinewidth\":0,\"ticks\":\"\"},\"colorscale\":[[0.0,\"#0d0887\"],[0.1111111111111111,\"#46039f\"],[0.2222222222222222,\"#7201a8\"],[0.3333333333333333,\"#9c179e\"],[0.4444444444444444,\"#bd3786\"],[0.5555555555555556,\"#d8576b\"],[0.6666666666666666,\"#ed7953\"],[0.7777777777777778,\"#fb9f3a\"],[0.8888888888888888,\"#fdca26\"],[1.0,\"#f0f921\"]],\"type\":\"heatmap\"}],\"heatmapgl\":[{\"colorbar\":{\"outlinewidth\":0,\"ticks\":\"\"},\"colorscale\":[[0.0,\"#0d0887\"],[0.1111111111111111,\"#46039f\"],[0.2222222222222222,\"#7201a8\"],[0.3333333333333333,\"#9c179e\"],[0.4444444444444444,\"#bd3786\"],[0.5555555555555556,\"#d8576b\"],[0.6666666666666666,\"#ed7953\"],[0.7777777777777778,\"#fb9f3a\"],[0.8888888888888888,\"#fdca26\"],[1.0,\"#f0f921\"]],\"type\":\"heatmapgl\"}],\"histogram\":[{\"marker\":{\"pattern\":{\"fillmode\":\"overlay\",\"size\":10,\"solidity\":0.2}},\"type\":\"histogram\"}],\"histogram2d\":[{\"colorbar\":{\"outlinewidth\":0,\"ticks\":\"\"},\"colorscale\":[[0.0,\"#0d0887\"],[0.1111111111111111,\"#46039f\"],[0.2222222222222222,\"#7201a8\"],[0.3333333333333333,\"#9c179e\"],[0.4444444444444444,\"#bd3786\"],[0.5555555555555556,\"#d8576b\"],[0.6666666666666666,\"#ed7953\"],[0.7777777777777778,\"#fb9f3a\"],[0.8888888888888888,\"#fdca26\"],[1.0,\"#f0f921\"]],\"type\":\"histogram2d\"}],\"histogram2dcontour\":[{\"colorbar\":{\"outlinewidth\":0,\"ticks\":\"\"},\"colorscale\":[[0.0,\"#0d0887\"],[0.1111111111111111,\"#46039f\"],[0.2222222222222222,\"#7201a8\"],[0.3333333333333333,\"#9c179e\"],[0.4444444444444444,\"#bd3786\"],[0.5555555555555556,\"#d8576b\"],[0.6666666666666666,\"#ed7953\"],[0.7777777777777778,\"#fb9f3a\"],[0.8888888888888888,\"#fdca26\"],[1.0,\"#f0f921\"]],\"type\":\"histogram2dcontour\"}],\"mesh3d\":[{\"colorbar\":{\"outlinewidth\":0,\"ticks\":\"\"},\"type\":\"mesh3d\"}],\"parcoords\":[{\"line\":{\"colorbar\":{\"outlinewidth\":0,\"ticks\":\"\"}},\"type\":\"parcoords\"}],\"pie\":[{\"automargin\":true,\"type\":\"pie\"}],\"scatter\":[{\"marker\":{\"colorbar\":{\"outlinewidth\":0,\"ticks\":\"\"}},\"type\":\"scatter\"}],\"scatter3d\":[{\"line\":{\"colorbar\":{\"outlinewidth\":0,\"ticks\":\"\"}},\"marker\":{\"colorbar\":{\"outlinewidth\":0,\"ticks\":\"\"}},\"type\":\"scatter3d\"}],\"scattercarpet\":[{\"marker\":{\"colorbar\":{\"outlinewidth\":0,\"ticks\":\"\"}},\"type\":\"scattercarpet\"}],\"scattergeo\":[{\"marker\":{\"colorbar\":{\"outlinewidth\":0,\"ticks\":\"\"}},\"type\":\"scattergeo\"}],\"scattergl\":[{\"marker\":{\"colorbar\":{\"outlinewidth\":0,\"ticks\":\"\"}},\"type\":\"scattergl\"}],\"scattermapbox\":[{\"marker\":{\"colorbar\":{\"outlinewidth\":0,\"ticks\":\"\"}},\"type\":\"scattermapbox\"}],\"scatterpolar\":[{\"marker\":{\"colorbar\":{\"outlinewidth\":0,\"ticks\":\"\"}},\"type\":\"scatterpolar\"}],\"scatterpolargl\":[{\"marker\":{\"colorbar\":{\"outlinewidth\":0,\"ticks\":\"\"}},\"type\":\"scatterpolargl\"}],\"scatterternary\":[{\"marker\":{\"colorbar\":{\"outlinewidth\":0,\"ticks\":\"\"}},\"type\":\"scatterternary\"}],\"surface\":[{\"colorbar\":{\"outlinewidth\":0,\"ticks\":\"\"},\"colorscale\":[[0.0,\"#0d0887\"],[0.1111111111111111,\"#46039f\"],[0.2222222222222222,\"#7201a8\"],[0.3333333333333333,\"#9c179e\"],[0.4444444444444444,\"#bd3786\"],[0.5555555555555556,\"#d8576b\"],[0.6666666666666666,\"#ed7953\"],[0.7777777777777778,\"#fb9f3a\"],[0.8888888888888888,\"#fdca26\"],[1.0,\"#f0f921\"]],\"type\":\"surface\"}],\"table\":[{\"cells\":{\"fill\":{\"color\":\"#EBF0F8\"},\"line\":{\"color\":\"white\"}},\"header\":{\"fill\":{\"color\":\"#C8D4E3\"},\"line\":{\"color\":\"white\"}},\"type\":\"table\"}]},\"layout\":{\"annotationdefaults\":{\"arrowcolor\":\"#2a3f5f\",\"arrowhead\":0,\"arrowwidth\":1},\"autotypenumbers\":\"strict\",\"coloraxis\":{\"colorbar\":{\"outlinewidth\":0,\"ticks\":\"\"}},\"colorscale\":{\"diverging\":[[0,\"#8e0152\"],[0.1,\"#c51b7d\"],[0.2,\"#de77ae\"],[0.3,\"#f1b6da\"],[0.4,\"#fde0ef\"],[0.5,\"#f7f7f7\"],[0.6,\"#e6f5d0\"],[0.7,\"#b8e186\"],[0.8,\"#7fbc41\"],[0.9,\"#4d9221\"],[1,\"#276419\"]],\"sequential\":[[0.0,\"#0d0887\"],[0.1111111111111111,\"#46039f\"],[0.2222222222222222,\"#7201a8\"],[0.3333333333333333,\"#9c179e\"],[0.4444444444444444,\"#bd3786\"],[0.5555555555555556,\"#d8576b\"],[0.6666666666666666,\"#ed7953\"],[0.7777777777777778,\"#fb9f3a\"],[0.8888888888888888,\"#fdca26\"],[1.0,\"#f0f921\"]],\"sequentialminus\":[[0.0,\"#0d0887\"],[0.1111111111111111,\"#46039f\"],[0.2222222222222222,\"#7201a8\"],[0.3333333333333333,\"#9c179e\"],[0.4444444444444444,\"#bd3786\"],[0.5555555555555556,\"#d8576b\"],[0.6666666666666666,\"#ed7953\"],[0.7777777777777778,\"#fb9f3a\"],[0.8888888888888888,\"#fdca26\"],[1.0,\"#f0f921\"]]},\"colorway\":[\"#636efa\",\"#EF553B\",\"#00cc96\",\"#ab63fa\",\"#FFA15A\",\"#19d3f3\",\"#FF6692\",\"#B6E880\",\"#FF97FF\",\"#FECB52\"],\"font\":{\"color\":\"#2a3f5f\"},\"geo\":{\"bgcolor\":\"white\",\"lakecolor\":\"white\",\"landcolor\":\"#E5ECF6\",\"showlakes\":true,\"showland\":true,\"subunitcolor\":\"white\"},\"hoverlabel\":{\"align\":\"left\"},\"hovermode\":\"closest\",\"mapbox\":{\"style\":\"light\"},\"paper_bgcolor\":\"white\",\"plot_bgcolor\":\"#E5ECF6\",\"polar\":{\"angularaxis\":{\"gridcolor\":\"white\",\"linecolor\":\"white\",\"ticks\":\"\"},\"bgcolor\":\"#E5ECF6\",\"radialaxis\":{\"gridcolor\":\"white\",\"linecolor\":\"white\",\"ticks\":\"\"}},\"scene\":{\"xaxis\":{\"backgroundcolor\":\"#E5ECF6\",\"gridcolor\":\"white\",\"gridwidth\":2,\"linecolor\":\"white\",\"showbackground\":true,\"ticks\":\"\",\"zerolinecolor\":\"white\"},\"yaxis\":{\"backgroundcolor\":\"#E5ECF6\",\"gridcolor\":\"white\",\"gridwidth\":2,\"linecolor\":\"white\",\"showbackground\":true,\"ticks\":\"\",\"zerolinecolor\":\"white\"},\"zaxis\":{\"backgroundcolor\":\"#E5ECF6\",\"gridcolor\":\"white\",\"gridwidth\":2,\"linecolor\":\"white\",\"showbackground\":true,\"ticks\":\"\",\"zerolinecolor\":\"white\"}},\"shapedefaults\":{\"line\":{\"color\":\"#2a3f5f\"}},\"ternary\":{\"aaxis\":{\"gridcolor\":\"white\",\"linecolor\":\"white\",\"ticks\":\"\"},\"baxis\":{\"gridcolor\":\"white\",\"linecolor\":\"white\",\"ticks\":\"\"},\"bgcolor\":\"#E5ECF6\",\"caxis\":{\"gridcolor\":\"white\",\"linecolor\":\"white\",\"ticks\":\"\"}},\"title\":{\"x\":0.05},\"xaxis\":{\"automargin\":true,\"gridcolor\":\"white\",\"linecolor\":\"white\",\"ticks\":\"\",\"title\":{\"standoff\":15},\"zerolinecolor\":\"white\",\"zerolinewidth\":2},\"yaxis\":{\"automargin\":true,\"gridcolor\":\"white\",\"linecolor\":\"white\",\"ticks\":\"\",\"title\":{\"standoff\":15},\"zerolinecolor\":\"white\",\"zerolinewidth\":2}}},\"xaxis\":{\"anchor\":\"y\",\"domain\":[0.0,1.0],\"title\":{\"text\":\"Year\"}},\"yaxis\":{\"anchor\":\"x\",\"domain\":[0.0,1.0],\"title\":{\"text\":\"Duration(min)\"}},\"legend\":{\"tracegroupgap\":0},\"margin\":{\"t\":60}},                        {\"responsive\": true}                    ).then(function(){\n",
              "                            \n",
              "var gd = document.getElementById('31b48d9b-f2f6-4ffc-bb2c-7d06f29a9153');\n",
              "var x = new MutationObserver(function (mutations, observer) {{\n",
              "        var display = window.getComputedStyle(gd).display;\n",
              "        if (!display || display === 'none') {{\n",
              "            console.log([gd, 'removed!']);\n",
              "            Plotly.purge(gd);\n",
              "            observer.disconnect();\n",
              "        }}\n",
              "}});\n",
              "\n",
              "// Listen for the removal of the full notebook cells\n",
              "var notebookContainer = gd.closest('#notebook-container');\n",
              "if (notebookContainer) {{\n",
              "    x.observe(notebookContainer, {childList: true});\n",
              "}}\n",
              "\n",
              "// Listen for the clearing of the current output cell\n",
              "var outputEl = gd.closest('.output');\n",
              "if (outputEl) {{\n",
              "    x.observe(outputEl, {childList: true});\n",
              "}}\n",
              "\n",
              "                        })                };                            </script>        </div>\n",
              "</body>\n",
              "</html>"
            ]
          },
          "metadata": {}
        }
      ]
    },
    {
      "cell_type": "markdown",
      "source": [
        "Indeed, the two points with the highest duration are series (\"Berlin Alexanderplatz\" and \"Heimat\"), but others, like \"Shoah\" and \"Greed\" are not. On the other side of the spectrum, we notice that there are several short films on the list, particularly in the first decades of cinema.  They become increasingly rare on the list after the mid-60s, indicating a decrease in the format's perceived cultural importance (though if they also diminished in volume as a percentage of all films is quite another question, which this dataset could not answer). \n",
        "\n",
        "If we were interested exclusively in identifying a general trend regarding the length of feature films, it would be helpful to remove the outliers. We can use the definition of the [AMPAS](https://www.oscars.org/sites/oscars/files/93aa_rules.pdf) and [BFI](https://www.bfi.org.uk/bfi-national-archive/research-bfi-archive/bfi-filmography/bfi-filmography-faq), which both use the mark of 40 minutes to separate shorts and features. The opposite end of the spectrum is much harder to cut off. A 300 minute line (5 hours) would be a very generous limit."
      ],
      "metadata": {
        "id": "EXwMV7UY7DJH"
      }
    },
    {
      "cell_type": "code",
      "source": [
        "# Make new dataframe without films shorter than 40 min and longer than 300 min\n",
        "feature_length = ref_full[(ref_full['Duration(min)'] < 300) & (ref_full['Duration(min)'] > 40)]\n",
        "# Simplify this dataframe with only the columns we need\n",
        "feature_length = feature_length[[\"Year\", \"Duration(min)\", \"English Title\"]]"
      ],
      "metadata": {
        "id": "b1KNd0PGhtxW"
      },
      "execution_count": 12,
      "outputs": []
    },
    {
      "cell_type": "code",
      "source": [
        "feature_length"
      ],
      "metadata": {
        "colab": {
          "base_uri": "https://localhost:8080/",
          "height": 424
        },
        "id": "qoJyDwfll9qL",
        "outputId": "75c28b52-cf2c-4b53-da41-46c994a79352"
      },
      "execution_count": 13,
      "outputs": [
        {
          "output_type": "execute_result",
          "data": {
            "text/plain": [
              "     Year  Duration(min)                              English Title\n",
              "8    1913             54  Fantomas: In the Shadow of the Guillotine\n",
              "10   1914            168                                    Cabiria\n",
              "11   1914             74                              The Squaw Man\n",
              "12   1915            187                      The Birth of a Nation\n",
              "13   1915             59                                     Carmen\n",
              "..    ...            ...                                        ...\n",
              "424  2009            104                                 Antichrist\n",
              "425  2009            131                            The Hurt Locker\n",
              "426  2009            115                          Police, Adjective\n",
              "427  2011             82                                     Tomboy\n",
              "428  2014            114                                Citizenfour\n",
              "\n",
              "[378 rows x 3 columns]"
            ],
            "text/html": [
              "\n",
              "  <div id=\"df-209acea2-5064-48fd-a581-2503013a8365\">\n",
              "    <div class=\"colab-df-container\">\n",
              "      <div>\n",
              "<style scoped>\n",
              "    .dataframe tbody tr th:only-of-type {\n",
              "        vertical-align: middle;\n",
              "    }\n",
              "\n",
              "    .dataframe tbody tr th {\n",
              "        vertical-align: top;\n",
              "    }\n",
              "\n",
              "    .dataframe thead th {\n",
              "        text-align: right;\n",
              "    }\n",
              "</style>\n",
              "<table border=\"1\" class=\"dataframe\">\n",
              "  <thead>\n",
              "    <tr style=\"text-align: right;\">\n",
              "      <th></th>\n",
              "      <th>Year</th>\n",
              "      <th>Duration(min)</th>\n",
              "      <th>English Title</th>\n",
              "    </tr>\n",
              "  </thead>\n",
              "  <tbody>\n",
              "    <tr>\n",
              "      <th>8</th>\n",
              "      <td>1913</td>\n",
              "      <td>54</td>\n",
              "      <td>Fantomas: In the Shadow of the Guillotine</td>\n",
              "    </tr>\n",
              "    <tr>\n",
              "      <th>10</th>\n",
              "      <td>1914</td>\n",
              "      <td>168</td>\n",
              "      <td>Cabiria</td>\n",
              "    </tr>\n",
              "    <tr>\n",
              "      <th>11</th>\n",
              "      <td>1914</td>\n",
              "      <td>74</td>\n",
              "      <td>The Squaw Man</td>\n",
              "    </tr>\n",
              "    <tr>\n",
              "      <th>12</th>\n",
              "      <td>1915</td>\n",
              "      <td>187</td>\n",
              "      <td>The Birth of a Nation</td>\n",
              "    </tr>\n",
              "    <tr>\n",
              "      <th>13</th>\n",
              "      <td>1915</td>\n",
              "      <td>59</td>\n",
              "      <td>Carmen</td>\n",
              "    </tr>\n",
              "    <tr>\n",
              "      <th>...</th>\n",
              "      <td>...</td>\n",
              "      <td>...</td>\n",
              "      <td>...</td>\n",
              "    </tr>\n",
              "    <tr>\n",
              "      <th>424</th>\n",
              "      <td>2009</td>\n",
              "      <td>104</td>\n",
              "      <td>Antichrist</td>\n",
              "    </tr>\n",
              "    <tr>\n",
              "      <th>425</th>\n",
              "      <td>2009</td>\n",
              "      <td>131</td>\n",
              "      <td>The Hurt Locker</td>\n",
              "    </tr>\n",
              "    <tr>\n",
              "      <th>426</th>\n",
              "      <td>2009</td>\n",
              "      <td>115</td>\n",
              "      <td>Police, Adjective</td>\n",
              "    </tr>\n",
              "    <tr>\n",
              "      <th>427</th>\n",
              "      <td>2011</td>\n",
              "      <td>82</td>\n",
              "      <td>Tomboy</td>\n",
              "    </tr>\n",
              "    <tr>\n",
              "      <th>428</th>\n",
              "      <td>2014</td>\n",
              "      <td>114</td>\n",
              "      <td>Citizenfour</td>\n",
              "    </tr>\n",
              "  </tbody>\n",
              "</table>\n",
              "<p>378 rows × 3 columns</p>\n",
              "</div>\n",
              "      <button class=\"colab-df-convert\" onclick=\"convertToInteractive('df-209acea2-5064-48fd-a581-2503013a8365')\"\n",
              "              title=\"Convert this dataframe to an interactive table.\"\n",
              "              style=\"display:none;\">\n",
              "        \n",
              "  <svg xmlns=\"http://www.w3.org/2000/svg\" height=\"24px\"viewBox=\"0 0 24 24\"\n",
              "       width=\"24px\">\n",
              "    <path d=\"M0 0h24v24H0V0z\" fill=\"none\"/>\n",
              "    <path d=\"M18.56 5.44l.94 2.06.94-2.06 2.06-.94-2.06-.94-.94-2.06-.94 2.06-2.06.94zm-11 1L8.5 8.5l.94-2.06 2.06-.94-2.06-.94L8.5 2.5l-.94 2.06-2.06.94zm10 10l.94 2.06.94-2.06 2.06-.94-2.06-.94-.94-2.06-.94 2.06-2.06.94z\"/><path d=\"M17.41 7.96l-1.37-1.37c-.4-.4-.92-.59-1.43-.59-.52 0-1.04.2-1.43.59L10.3 9.45l-7.72 7.72c-.78.78-.78 2.05 0 2.83L4 21.41c.39.39.9.59 1.41.59.51 0 1.02-.2 1.41-.59l7.78-7.78 2.81-2.81c.8-.78.8-2.07 0-2.86zM5.41 20L4 18.59l7.72-7.72 1.47 1.35L5.41 20z\"/>\n",
              "  </svg>\n",
              "      </button>\n",
              "      \n",
              "  <style>\n",
              "    .colab-df-container {\n",
              "      display:flex;\n",
              "      flex-wrap:wrap;\n",
              "      gap: 12px;\n",
              "    }\n",
              "\n",
              "    .colab-df-convert {\n",
              "      background-color: #E8F0FE;\n",
              "      border: none;\n",
              "      border-radius: 50%;\n",
              "      cursor: pointer;\n",
              "      display: none;\n",
              "      fill: #1967D2;\n",
              "      height: 32px;\n",
              "      padding: 0 0 0 0;\n",
              "      width: 32px;\n",
              "    }\n",
              "\n",
              "    .colab-df-convert:hover {\n",
              "      background-color: #E2EBFA;\n",
              "      box-shadow: 0px 1px 2px rgba(60, 64, 67, 0.3), 0px 1px 3px 1px rgba(60, 64, 67, 0.15);\n",
              "      fill: #174EA6;\n",
              "    }\n",
              "\n",
              "    [theme=dark] .colab-df-convert {\n",
              "      background-color: #3B4455;\n",
              "      fill: #D2E3FC;\n",
              "    }\n",
              "\n",
              "    [theme=dark] .colab-df-convert:hover {\n",
              "      background-color: #434B5C;\n",
              "      box-shadow: 0px 1px 3px 1px rgba(0, 0, 0, 0.15);\n",
              "      filter: drop-shadow(0px 1px 2px rgba(0, 0, 0, 0.3));\n",
              "      fill: #FFFFFF;\n",
              "    }\n",
              "  </style>\n",
              "\n",
              "      <script>\n",
              "        const buttonEl =\n",
              "          document.querySelector('#df-209acea2-5064-48fd-a581-2503013a8365 button.colab-df-convert');\n",
              "        buttonEl.style.display =\n",
              "          google.colab.kernel.accessAllowed ? 'block' : 'none';\n",
              "\n",
              "        async function convertToInteractive(key) {\n",
              "          const element = document.querySelector('#df-209acea2-5064-48fd-a581-2503013a8365');\n",
              "          const dataTable =\n",
              "            await google.colab.kernel.invokeFunction('convertToInteractive',\n",
              "                                                     [key], {});\n",
              "          if (!dataTable) return;\n",
              "\n",
              "          const docLinkHtml = 'Like what you see? Visit the ' +\n",
              "            '<a target=\"_blank\" href=https://colab.research.google.com/notebooks/data_table.ipynb>data table notebook</a>'\n",
              "            + ' to learn more about interactive tables.';\n",
              "          element.innerHTML = '';\n",
              "          dataTable['output_type'] = 'display_data';\n",
              "          await google.colab.output.renderOutput(dataTable, element);\n",
              "          const docLink = document.createElement('div');\n",
              "          docLink.innerHTML = docLinkHtml;\n",
              "          element.appendChild(docLink);\n",
              "        }\n",
              "      </script>\n",
              "    </div>\n",
              "  </div>\n",
              "  "
            ]
          },
          "metadata": {},
          "execution_count": 13
        }
      ]
    },
    {
      "cell_type": "code",
      "source": [
        "# Plot only films with more than 40 and less than 300 min with a regression line\n",
        "sns.regplot(data=feature_length, x=\"Year\", y=\"Duration(min)\", color=\"teal\").set_title(\"Year vs Duration (Features Only)\")\n",
        "plt.savefig(\"Features_Year_vs_Duration.jpg\", dpi=250, bbox_inches='tight')"
      ],
      "metadata": {
        "colab": {
          "base_uri": "https://localhost:8080/",
          "height": 325
        },
        "id": "S5ICuGbyGb_-",
        "outputId": "5641f984-8e85-4d35-a318-8c096da0a23c"
      },
      "execution_count": 14,
      "outputs": [
        {
          "output_type": "display_data",
          "data": {
            "text/plain": [
              "<Figure size 432x288 with 1 Axes>"
            ],
            "image/png": "[encoded data removed]"
          },
          "metadata": {}
        }
      ]
    },
    {
      "cell_type": "code",
      "source": [
        "# Let's check to see what is the correlation and level of significance\n",
        "X = feature_length['Year']\n",
        "Y = feature_length[\"Duration(min)\"]\n",
        "linregress(X, Y)"
      ],
      "metadata": {
        "colab": {
          "base_uri": "https://localhost:8080/"
        },
        "id": "wIRlUHC3IiUr",
        "outputId": "307b54f1-1548-446d-f024-60a4bd34030e"
      },
      "execution_count": 15,
      "outputs": [
        {
          "output_type": "execute_result",
          "data": {
            "text/plain": [
              "LinregressResult(slope=0.21986085229944013, intercept=-319.2384756782228, rvalue=0.12994664407050588, pvalue=0.011444832975126294, stderr=0.08651488367240102, intercept_stderr=169.95040926103582)"
            ]
          },
          "metadata": {},
          "execution_count": 15
        }
      ]
    },
    {
      "cell_type": "markdown",
      "source": [
        "That means the correlation is 0.13 (very weak) and the significance is 0.01 (very low). This indicates that movies on the reference list tend to get longer throughout the period (120 years) and, while there are other factors that influence film length to a considerable degree outside of the period in which they were made, there is a very low chance (1%) that this relationship is just a quirk of our data. It would be interesting to check with a larger and more random sample (not just including canonical films) to see if this is the case for films in general."
      ],
      "metadata": {
        "id": "Z6OM011goG9Z"
      }
    },
    {
      "cell_type": "markdown",
      "source": [
        "# Distribution of films per year\n",
        "We can see from this data that the movies in the reference list aren't distributed across the years very well. Let's make *a* histogram to see how they are distributed."
      ],
      "metadata": {
        "id": "-gEw0k3sp5MM"
      }
    },
    {
      "cell_type": "code",
      "source": [
        "# Histogram for the distribution\n",
        "plt.figure(figsize=(9, 5))\n",
        "sns.histplot(ref_full[\"Year\"], bins=12, color=\"teal\", alpha=0.8).set_title(\"Goethe Film List Distribution\")# Organized in 12 bins so we have one per decade (from 1890 to 2010)\n",
        "sns.despine(left=True, bottom=True)\n",
        "plt.xticks(range(1890, 2020, 10)) # x ticks in our range of years and after every 10 years, so we can see each decade\n",
        "plt.savefig(\"Year_Distribution.jpg\", dpi=250, bbox_inches='tight')"
      ],
      "metadata": {
        "colab": {
          "base_uri": "https://localhost:8080/",
          "height": 383
        },
        "id": "9-uSBfKyNgVW",
        "outputId": "7610d34f-863b-41d2-e5db-fa7de6686eba"
      },
      "execution_count": 16,
      "outputs": [
        {
          "output_type": "display_data",
          "data": {
            "text/plain": [
              "<Figure size 648x360 with 1 Axes>"
            ],
            "image/png": "[encoded data removed]"
          },
          "metadata": {}
        }
      ]
    },
    {
      "cell_type": "markdown",
      "source": [
        "The 60s and 70s are the most represented, perhaps indicating something about the age the creators of the reference list are nostalgic about. \n",
        "\n",
        "Next, we can check the frequency of non-numerical data, such as gender and country of origin."
      ],
      "metadata": {
        "id": "G8xsdargVIgN"
      }
    },
    {
      "cell_type": "markdown",
      "source": [
        "# Gender Split (Pie Chart)"
      ],
      "metadata": {
        "id": "3lbdhc8B-ZDi"
      }
    },
    {
      "cell_type": "code",
      "source": [
        "# First we need to take just the gender of director and count\n",
        "# Our dataframe sometimes has multiple directors in one row, separated by /\n",
        "# In order to count gender, we could make three categories: male (if all directors are male), female (if all are female) and mixed (if there is a mixed team per film). That way, we don't count movies twice\n",
        "ref_full[\"Director's Gender\"].value_counts(normalize=True)"
      ],
      "metadata": {
        "colab": {
          "base_uri": "https://localhost:8080/"
        },
        "id": "kaF1rZBtuFbt",
        "outputId": "85ec37eb-3a90-4714-ee36-d5b509c97027"
      },
      "execution_count": 17,
      "outputs": [
        {
          "output_type": "execute_result",
          "data": {
            "text/plain": [
              "male                                  0.792541\n",
              "female                                0.123543\n",
              "male/ male                            0.060606\n",
              "male/ female                          0.006993\n",
              "female/ male                          0.006993\n",
              "male/ male/ male/ male/ male/ male    0.002331\n",
              "male/ male/ male                      0.002331\n",
              "male/ male/ male/ male/ male          0.002331\n",
              "female/ male/ male                    0.002331\n",
              "Name: Director's Gender, dtype: float64"
            ]
          },
          "metadata": {},
          "execution_count": 17
        }
      ]
    },
    {
      "cell_type": "code",
      "source": [
        "# New dataframe with just the information we need: year and director's Gender\n",
        "dir_gender = ref_full[[\"Year\", \"Director's Gender\"]]"
      ],
      "metadata": {
        "id": "NtLfPLgjKn0S"
      },
      "execution_count": 18,
      "outputs": []
    },
    {
      "cell_type": "code",
      "source": [
        "dir_gender[\"Director's Gender\"].isnull().values.any()"
      ],
      "metadata": {
        "colab": {
          "base_uri": "https://localhost:8080/"
        },
        "id": "5prjF0x0VrxU",
        "outputId": "41af99ec-4ba0-4bcc-ba7f-112371c67640"
      },
      "execution_count": 19,
      "outputs": [
        {
          "output_type": "execute_result",
          "data": {
            "text/plain": [
              "False"
            ]
          },
          "metadata": {},
          "execution_count": 19
        }
      ]
    },
    {
      "cell_type": "code",
      "source": [
        "# Transform cells with multiple directors\n",
        "dir_gender[\"Director's Gender\"] = dir_gender[\"Director's Gender\"].apply(lambda row: 'male' if 'female' not in row else row) # If \"female\" not in cell, replace cell value with \"male\"\n",
        "dir_gender[\"Director's Gender\"] = dir_gender[\"Director's Gender\"].apply(lambda row: 'mixed' if '/' in row else row) # If / in row (which is now only present in movies with mixed or exclusively female directors), replace value with \"mixed\""
      ],
      "metadata": {
        "colab": {
          "base_uri": "https://localhost:8080/"
        },
        "id": "FQ4FJeFOXKvi",
        "outputId": "08d358d1-fafc-4c80-eabd-2106a319943f"
      },
      "execution_count": 20,
      "outputs": [
        {
          "output_type": "stream",
          "name": "stderr",
          "text": [
            "<ipython-input-20-22d2f82652b8>:2: SettingWithCopyWarning:\n",
            "\n",
            "\n",
            "A value is trying to be set on a copy of a slice from a DataFrame.\n",
            "Try using .loc[row_indexer,col_indexer] = value instead\n",
            "\n",
            "See the caveats in the documentation: https://pandas.pydata.org/pandas-docs/stable/user_guide/indexing.html#returning-a-view-versus-a-copy\n",
            "\n",
            "<ipython-input-20-22d2f82652b8>:3: SettingWithCopyWarning:\n",
            "\n",
            "\n",
            "A value is trying to be set on a copy of a slice from a DataFrame.\n",
            "Try using .loc[row_indexer,col_indexer] = value instead\n",
            "\n",
            "See the caveats in the documentation: https://pandas.pydata.org/pandas-docs/stable/user_guide/indexing.html#returning-a-view-versus-a-copy\n",
            "\n"
          ]
        }
      ]
    },
    {
      "cell_type": "code",
      "source": [
        "# Let's see the numbers\n",
        "dir_gender[\"Director's Gender\"].value_counts()"
      ],
      "metadata": {
        "colab": {
          "base_uri": "https://localhost:8080/"
        },
        "id": "JQ_lpRBht_zx",
        "outputId": "cc02a353-ac48-4e84-c4b1-58fb418a3a7a"
      },
      "execution_count": 21,
      "outputs": [
        {
          "output_type": "execute_result",
          "data": {
            "text/plain": [
              "male      369\n",
              "female     53\n",
              "mixed       7\n",
              "Name: Director's Gender, dtype: int64"
            ]
          },
          "metadata": {},
          "execution_count": 21
        }
      ]
    },
    {
      "cell_type": "code",
      "source": [
        "# Let's make a piechart\n",
        "dir_gender[\"Director's Gender\"].value_counts().plot.pie(subplots=True, figsize=(12,8), autopct=\"%.1f\", fontsize=16, pctdistance=0.8, colors=[\"teal\",\"darkorange\", \"firebrick\"])\n",
        "plt.savefig(\"Director_Gender_Pie.jpg\", dpi=250, bbox_inches='tight')"
      ],
      "metadata": {
        "colab": {
          "base_uri": "https://localhost:8080/",
          "height": 497
        },
        "id": "E-9I9bOhudir",
        "outputId": "210b5bd9-83ec-4128-dfb3-2277e0f50e74"
      },
      "execution_count": 22,
      "outputs": [
        {
          "output_type": "display_data",
          "data": {
            "text/plain": [
              "<Figure size 864x576 with 1 Axes>"
            ],
            "image/png": "[encoded data removed]"
          },
          "metadata": {}
        }
      ]
    },
    {
      "cell_type": "markdown",
      "source": [
        "# Gender Distribution Through the Years (Stacked Bar Chart)"
      ],
      "metadata": {
        "id": "N3PHPNW23zJM"
      }
    },
    {
      "cell_type": "markdown",
      "source": [
        "A pie chart is fine if we want to have a static idea of the representation of film director's by gender, but it doesn't allow us to see the distribution in time. A stacked by chart could show us both the skewed distribution of films per year and the gender split in a single chart."
      ],
      "metadata": {
        "id": "G6iUNEqx4Sws"
      }
    },
    {
      "cell_type": "code",
      "source": [
        "# Let's sort the three types of film into three dataframes\n",
        "films_men = dir_gender[dir_gender[\"Director's Gender\"] == \"male\"]\n",
        "films_women = dir_gender[dir_gender[\"Director's Gender\"] == \"female\"]\n",
        "films_mixed = dir_gender[dir_gender[\"Director's Gender\"] == \"mixed\"]"
      ],
      "metadata": {
        "id": "dvowXTzjd_RE"
      },
      "execution_count": 23,
      "outputs": []
    },
    {
      "cell_type": "code",
      "source": [
        "# Let's count the number of films per year in each category\n",
        "women_count = films_women.groupby(\"Year\").count()\n",
        "men_count = films_men.groupby(\"Year\").count()\n",
        "mixed_count = films_mixed.groupby(\"Year\").count()"
      ],
      "metadata": {
        "id": "0kAMUK-YejnB"
      },
      "execution_count": 24,
      "outputs": []
    },
    {
      "cell_type": "code",
      "source": [
        "# Let's check to see how many films have director's of mixed gender\n",
        "mixed_count"
      ],
      "metadata": {
        "colab": {
          "base_uri": "https://localhost:8080/",
          "height": 269
        },
        "id": "x5pqSMRtiHQd",
        "outputId": "da3aef51-e880-419a-ba81-1eef08673db2"
      },
      "execution_count": 25,
      "outputs": [
        {
          "output_type": "execute_result",
          "data": {
            "text/plain": [
              "      Director's Gender\n",
              "Year                   \n",
              "1913                  1\n",
              "1930                  1\n",
              "1941                  1\n",
              "1943                  1\n",
              "1968                  2\n",
              "1977                  1"
            ],
            "text/html": [
              "\n",
              "  <div id=\"df-5ca8d366-9c65-4a7e-bf27-4e7ea33dc9a4\">\n",
              "    <div class=\"colab-df-container\">\n",
              "      <div>\n",
              "<style scoped>\n",
              "    .dataframe tbody tr th:only-of-type {\n",
              "        vertical-align: middle;\n",
              "    }\n",
              "\n",
              "    .dataframe tbody tr th {\n",
              "        vertical-align: top;\n",
              "    }\n",
              "\n",
              "    .dataframe thead th {\n",
              "        text-align: right;\n",
              "    }\n",
              "</style>\n",
              "<table border=\"1\" class=\"dataframe\">\n",
              "  <thead>\n",
              "    <tr style=\"text-align: right;\">\n",
              "      <th></th>\n",
              "      <th>Director's Gender</th>\n",
              "    </tr>\n",
              "    <tr>\n",
              "      <th>Year</th>\n",
              "      <th></th>\n",
              "    </tr>\n",
              "  </thead>\n",
              "  <tbody>\n",
              "    <tr>\n",
              "      <th>1913</th>\n",
              "      <td>1</td>\n",
              "    </tr>\n",
              "    <tr>\n",
              "      <th>1930</th>\n",
              "      <td>1</td>\n",
              "    </tr>\n",
              "    <tr>\n",
              "      <th>1941</th>\n",
              "      <td>1</td>\n",
              "    </tr>\n",
              "    <tr>\n",
              "      <th>1943</th>\n",
              "      <td>1</td>\n",
              "    </tr>\n",
              "    <tr>\n",
              "      <th>1968</th>\n",
              "      <td>2</td>\n",
              "    </tr>\n",
              "    <tr>\n",
              "      <th>1977</th>\n",
              "      <td>1</td>\n",
              "    </tr>\n",
              "  </tbody>\n",
              "</table>\n",
              "</div>\n",
              "      <button class=\"colab-df-convert\" onclick=\"convertToInteractive('df-5ca8d366-9c65-4a7e-bf27-4e7ea33dc9a4')\"\n",
              "              title=\"Convert this dataframe to an interactive table.\"\n",
              "              style=\"display:none;\">\n",
              "        \n",
              "  <svg xmlns=\"http://www.w3.org/2000/svg\" height=\"24px\"viewBox=\"0 0 24 24\"\n",
              "       width=\"24px\">\n",
              "    <path d=\"M0 0h24v24H0V0z\" fill=\"none\"/>\n",
              "    <path d=\"M18.56 5.44l.94 2.06.94-2.06 2.06-.94-2.06-.94-.94-2.06-.94 2.06-2.06.94zm-11 1L8.5 8.5l.94-2.06 2.06-.94-2.06-.94L8.5 2.5l-.94 2.06-2.06.94zm10 10l.94 2.06.94-2.06 2.06-.94-2.06-.94-.94-2.06-.94 2.06-2.06.94z\"/><path d=\"M17.41 7.96l-1.37-1.37c-.4-.4-.92-.59-1.43-.59-.52 0-1.04.2-1.43.59L10.3 9.45l-7.72 7.72c-.78.78-.78 2.05 0 2.83L4 21.41c.39.39.9.59 1.41.59.51 0 1.02-.2 1.41-.59l7.78-7.78 2.81-2.81c.8-.78.8-2.07 0-2.86zM5.41 20L4 18.59l7.72-7.72 1.47 1.35L5.41 20z\"/>\n",
              "  </svg>\n",
              "      </button>\n",
              "      \n",
              "  <style>\n",
              "    .colab-df-container {\n",
              "      display:flex;\n",
              "      flex-wrap:wrap;\n",
              "      gap: 12px;\n",
              "    }\n",
              "\n",
              "    .colab-df-convert {\n",
              "      background-color: #E8F0FE;\n",
              "      border: none;\n",
              "      border-radius: 50%;\n",
              "      cursor: pointer;\n",
              "      display: none;\n",
              "      fill: #1967D2;\n",
              "      height: 32px;\n",
              "      padding: 0 0 0 0;\n",
              "      width: 32px;\n",
              "    }\n",
              "\n",
              "    .colab-df-convert:hover {\n",
              "      background-color: #E2EBFA;\n",
              "      box-shadow: 0px 1px 2px rgba(60, 64, 67, 0.3), 0px 1px 3px 1px rgba(60, 64, 67, 0.15);\n",
              "      fill: #174EA6;\n",
              "    }\n",
              "\n",
              "    [theme=dark] .colab-df-convert {\n",
              "      background-color: #3B4455;\n",
              "      fill: #D2E3FC;\n",
              "    }\n",
              "\n",
              "    [theme=dark] .colab-df-convert:hover {\n",
              "      background-color: #434B5C;\n",
              "      box-shadow: 0px 1px 3px 1px rgba(0, 0, 0, 0.15);\n",
              "      filter: drop-shadow(0px 1px 2px rgba(0, 0, 0, 0.3));\n",
              "      fill: #FFFFFF;\n",
              "    }\n",
              "  </style>\n",
              "\n",
              "      <script>\n",
              "        const buttonEl =\n",
              "          document.querySelector('#df-5ca8d366-9c65-4a7e-bf27-4e7ea33dc9a4 button.colab-df-convert');\n",
              "        buttonEl.style.display =\n",
              "          google.colab.kernel.accessAllowed ? 'block' : 'none';\n",
              "\n",
              "        async function convertToInteractive(key) {\n",
              "          const element = document.querySelector('#df-5ca8d366-9c65-4a7e-bf27-4e7ea33dc9a4');\n",
              "          const dataTable =\n",
              "            await google.colab.kernel.invokeFunction('convertToInteractive',\n",
              "                                                     [key], {});\n",
              "          if (!dataTable) return;\n",
              "\n",
              "          const docLinkHtml = 'Like what you see? Visit the ' +\n",
              "            '<a target=\"_blank\" href=https://colab.research.google.com/notebooks/data_table.ipynb>data table notebook</a>'\n",
              "            + ' to learn more about interactive tables.';\n",
              "          element.innerHTML = '';\n",
              "          dataTable['output_type'] = 'display_data';\n",
              "          await google.colab.output.renderOutput(dataTable, element);\n",
              "          const docLink = document.createElement('div');\n",
              "          docLink.innerHTML = docLinkHtml;\n",
              "          element.appendChild(docLink);\n",
              "        }\n",
              "      </script>\n",
              "    </div>\n",
              "  </div>\n",
              "  "
            ]
          },
          "metadata": {},
          "execution_count": 25
        }
      ]
    },
    {
      "cell_type": "code",
      "source": [
        "# This will change the names of each column and turn the dates into indexes, so we can join everything into one dataframe with three columns\n",
        "men_count.rename(columns={\"Director's Gender\": 'Male'}, inplace=True)\n",
        "women_count.rename(columns={\"Director's Gender\": 'Female'}, inplace=True)\n",
        "mixed_count.rename(columns={\"Director's Gender\": 'Mixed'}, inplace=True)"
      ],
      "metadata": {
        "id": "Bwgp-0ICiuOP"
      },
      "execution_count": 26,
      "outputs": []
    },
    {
      "cell_type": "code",
      "source": [
        "# Join the dataframes \n",
        "gender_count = pd.concat([men_count,women_count, mixed_count], axis=1)"
      ],
      "metadata": {
        "id": "ralJ5IOSk2fi"
      },
      "execution_count": 27,
      "outputs": []
    },
    {
      "cell_type": "code",
      "source": [
        "# Let's see what it looks like\n",
        "gender_count"
      ],
      "metadata": {
        "colab": {
          "base_uri": "https://localhost:8080/",
          "height": 455
        },
        "id": "65089lHfIamC",
        "outputId": "a1160a0d-f3a7-4e76-d5a3-24bda592fe75"
      },
      "execution_count": 28,
      "outputs": [
        {
          "output_type": "execute_result",
          "data": {
            "text/plain": [
              "      Male  Female  Mixed\n",
              "Year                     \n",
              "1896   NaN     1.0    NaN\n",
              "1902   1.0     NaN    NaN\n",
              "1903   2.0     NaN    NaN\n",
              "1905   1.0     NaN    NaN\n",
              "1909   1.0     NaN    NaN\n",
              "...    ...     ...    ...\n",
              "2007   NaN     1.0    NaN\n",
              "2008   2.0     NaN    NaN\n",
              "2009   2.0     1.0    NaN\n",
              "2011   NaN     1.0    NaN\n",
              "2014   NaN     1.0    NaN\n",
              "\n",
              "[103 rows x 3 columns]"
            ],
            "text/html": [
              "\n",
              "  <div id=\"df-d8635c84-328c-4050-8c83-bb73683267fd\">\n",
              "    <div class=\"colab-df-container\">\n",
              "      <div>\n",
              "<style scoped>\n",
              "    .dataframe tbody tr th:only-of-type {\n",
              "        vertical-align: middle;\n",
              "    }\n",
              "\n",
              "    .dataframe tbody tr th {\n",
              "        vertical-align: top;\n",
              "    }\n",
              "\n",
              "    .dataframe thead th {\n",
              "        text-align: right;\n",
              "    }\n",
              "</style>\n",
              "<table border=\"1\" class=\"dataframe\">\n",
              "  <thead>\n",
              "    <tr style=\"text-align: right;\">\n",
              "      <th></th>\n",
              "      <th>Male</th>\n",
              "      <th>Female</th>\n",
              "      <th>Mixed</th>\n",
              "    </tr>\n",
              "    <tr>\n",
              "      <th>Year</th>\n",
              "      <th></th>\n",
              "      <th></th>\n",
              "      <th></th>\n",
              "    </tr>\n",
              "  </thead>\n",
              "  <tbody>\n",
              "    <tr>\n",
              "      <th>1896</th>\n",
              "      <td>NaN</td>\n",
              "      <td>1.0</td>\n",
              "      <td>NaN</td>\n",
              "    </tr>\n",
              "    <tr>\n",
              "      <th>1902</th>\n",
              "      <td>1.0</td>\n",
              "      <td>NaN</td>\n",
              "      <td>NaN</td>\n",
              "    </tr>\n",
              "    <tr>\n",
              "      <th>1903</th>\n",
              "      <td>2.0</td>\n",
              "      <td>NaN</td>\n",
              "      <td>NaN</td>\n",
              "    </tr>\n",
              "    <tr>\n",
              "      <th>1905</th>\n",
              "      <td>1.0</td>\n",
              "      <td>NaN</td>\n",
              "      <td>NaN</td>\n",
              "    </tr>\n",
              "    <tr>\n",
              "      <th>1909</th>\n",
              "      <td>1.0</td>\n",
              "      <td>NaN</td>\n",
              "      <td>NaN</td>\n",
              "    </tr>\n",
              "    <tr>\n",
              "      <th>...</th>\n",
              "      <td>...</td>\n",
              "      <td>...</td>\n",
              "      <td>...</td>\n",
              "    </tr>\n",
              "    <tr>\n",
              "      <th>2007</th>\n",
              "      <td>NaN</td>\n",
              "      <td>1.0</td>\n",
              "      <td>NaN</td>\n",
              "    </tr>\n",
              "    <tr>\n",
              "      <th>2008</th>\n",
              "      <td>2.0</td>\n",
              "      <td>NaN</td>\n",
              "      <td>NaN</td>\n",
              "    </tr>\n",
              "    <tr>\n",
              "      <th>2009</th>\n",
              "      <td>2.0</td>\n",
              "      <td>1.0</td>\n",
              "      <td>NaN</td>\n",
              "    </tr>\n",
              "    <tr>\n",
              "      <th>2011</th>\n",
              "      <td>NaN</td>\n",
              "      <td>1.0</td>\n",
              "      <td>NaN</td>\n",
              "    </tr>\n",
              "    <tr>\n",
              "      <th>2014</th>\n",
              "      <td>NaN</td>\n",
              "      <td>1.0</td>\n",
              "      <td>NaN</td>\n",
              "    </tr>\n",
              "  </tbody>\n",
              "</table>\n",
              "<p>103 rows × 3 columns</p>\n",
              "</div>\n",
              "      <button class=\"colab-df-convert\" onclick=\"convertToInteractive('df-d8635c84-328c-4050-8c83-bb73683267fd')\"\n",
              "              title=\"Convert this dataframe to an interactive table.\"\n",
              "              style=\"display:none;\">\n",
              "        \n",
              "  <svg xmlns=\"http://www.w3.org/2000/svg\" height=\"24px\"viewBox=\"0 0 24 24\"\n",
              "       width=\"24px\">\n",
              "    <path d=\"M0 0h24v24H0V0z\" fill=\"none\"/>\n",
              "    <path d=\"M18.56 5.44l.94 2.06.94-2.06 2.06-.94-2.06-.94-.94-2.06-.94 2.06-2.06.94zm-11 1L8.5 8.5l.94-2.06 2.06-.94-2.06-.94L8.5 2.5l-.94 2.06-2.06.94zm10 10l.94 2.06.94-2.06 2.06-.94-2.06-.94-.94-2.06-.94 2.06-2.06.94z\"/><path d=\"M17.41 7.96l-1.37-1.37c-.4-.4-.92-.59-1.43-.59-.52 0-1.04.2-1.43.59L10.3 9.45l-7.72 7.72c-.78.78-.78 2.05 0 2.83L4 21.41c.39.39.9.59 1.41.59.51 0 1.02-.2 1.41-.59l7.78-7.78 2.81-2.81c.8-.78.8-2.07 0-2.86zM5.41 20L4 18.59l7.72-7.72 1.47 1.35L5.41 20z\"/>\n",
              "  </svg>\n",
              "      </button>\n",
              "      \n",
              "  <style>\n",
              "    .colab-df-container {\n",
              "      display:flex;\n",
              "      flex-wrap:wrap;\n",
              "      gap: 12px;\n",
              "    }\n",
              "\n",
              "    .colab-df-convert {\n",
              "      background-color: #E8F0FE;\n",
              "      border: none;\n",
              "      border-radius: 50%;\n",
              "      cursor: pointer;\n",
              "      display: none;\n",
              "      fill: #1967D2;\n",
              "      height: 32px;\n",
              "      padding: 0 0 0 0;\n",
              "      width: 32px;\n",
              "    }\n",
              "\n",
              "    .colab-df-convert:hover {\n",
              "      background-color: #E2EBFA;\n",
              "      box-shadow: 0px 1px 2px rgba(60, 64, 67, 0.3), 0px 1px 3px 1px rgba(60, 64, 67, 0.15);\n",
              "      fill: #174EA6;\n",
              "    }\n",
              "\n",
              "    [theme=dark] .colab-df-convert {\n",
              "      background-color: #3B4455;\n",
              "      fill: #D2E3FC;\n",
              "    }\n",
              "\n",
              "    [theme=dark] .colab-df-convert:hover {\n",
              "      background-color: #434B5C;\n",
              "      box-shadow: 0px 1px 3px 1px rgba(0, 0, 0, 0.15);\n",
              "      filter: drop-shadow(0px 1px 2px rgba(0, 0, 0, 0.3));\n",
              "      fill: #FFFFFF;\n",
              "    }\n",
              "  </style>\n",
              "\n",
              "      <script>\n",
              "        const buttonEl =\n",
              "          document.querySelector('#df-d8635c84-328c-4050-8c83-bb73683267fd button.colab-df-convert');\n",
              "        buttonEl.style.display =\n",
              "          google.colab.kernel.accessAllowed ? 'block' : 'none';\n",
              "\n",
              "        async function convertToInteractive(key) {\n",
              "          const element = document.querySelector('#df-d8635c84-328c-4050-8c83-bb73683267fd');\n",
              "          const dataTable =\n",
              "            await google.colab.kernel.invokeFunction('convertToInteractive',\n",
              "                                                     [key], {});\n",
              "          if (!dataTable) return;\n",
              "\n",
              "          const docLinkHtml = 'Like what you see? Visit the ' +\n",
              "            '<a target=\"_blank\" href=https://colab.research.google.com/notebooks/data_table.ipynb>data table notebook</a>'\n",
              "            + ' to learn more about interactive tables.';\n",
              "          element.innerHTML = '';\n",
              "          dataTable['output_type'] = 'display_data';\n",
              "          await google.colab.output.renderOutput(dataTable, element);\n",
              "          const docLink = document.createElement('div');\n",
              "          docLink.innerHTML = docLinkHtml;\n",
              "          element.appendChild(docLink);\n",
              "        }\n",
              "      </script>\n",
              "    </div>\n",
              "  </div>\n",
              "  "
            ]
          },
          "metadata": {},
          "execution_count": 28
        }
      ]
    },
    {
      "cell_type": "code",
      "source": [
        "# Let's fill the empty cell values with the number 0\n",
        "gender_count = gender_count.fillna(0)"
      ],
      "metadata": {
        "id": "FJZmnGRqJebg"
      },
      "execution_count": 29,
      "outputs": []
    },
    {
      "cell_type": "code",
      "source": [
        "gender_count"
      ],
      "metadata": {
        "colab": {
          "base_uri": "https://localhost:8080/",
          "height": 455
        },
        "id": "Z_-44b9GJqni",
        "outputId": "0c6219ba-514c-4417-8c3d-7fdd026c83ad"
      },
      "execution_count": 30,
      "outputs": [
        {
          "output_type": "execute_result",
          "data": {
            "text/plain": [
              "      Male  Female  Mixed\n",
              "Year                     \n",
              "1896   0.0     1.0    0.0\n",
              "1902   1.0     0.0    0.0\n",
              "1903   2.0     0.0    0.0\n",
              "1905   1.0     0.0    0.0\n",
              "1909   1.0     0.0    0.0\n",
              "...    ...     ...    ...\n",
              "2007   0.0     1.0    0.0\n",
              "2008   2.0     0.0    0.0\n",
              "2009   2.0     1.0    0.0\n",
              "2011   0.0     1.0    0.0\n",
              "2014   0.0     1.0    0.0\n",
              "\n",
              "[103 rows x 3 columns]"
            ],
            "text/html": [
              "\n",
              "  <div id=\"df-f2202767-43fb-48ce-ac0f-85c2b5daeabd\">\n",
              "    <div class=\"colab-df-container\">\n",
              "      <div>\n",
              "<style scoped>\n",
              "    .dataframe tbody tr th:only-of-type {\n",
              "        vertical-align: middle;\n",
              "    }\n",
              "\n",
              "    .dataframe tbody tr th {\n",
              "        vertical-align: top;\n",
              "    }\n",
              "\n",
              "    .dataframe thead th {\n",
              "        text-align: right;\n",
              "    }\n",
              "</style>\n",
              "<table border=\"1\" class=\"dataframe\">\n",
              "  <thead>\n",
              "    <tr style=\"text-align: right;\">\n",
              "      <th></th>\n",
              "      <th>Male</th>\n",
              "      <th>Female</th>\n",
              "      <th>Mixed</th>\n",
              "    </tr>\n",
              "    <tr>\n",
              "      <th>Year</th>\n",
              "      <th></th>\n",
              "      <th></th>\n",
              "      <th></th>\n",
              "    </tr>\n",
              "  </thead>\n",
              "  <tbody>\n",
              "    <tr>\n",
              "      <th>1896</th>\n",
              "      <td>0.0</td>\n",
              "      <td>1.0</td>\n",
              "      <td>0.0</td>\n",
              "    </tr>\n",
              "    <tr>\n",
              "      <th>1902</th>\n",
              "      <td>1.0</td>\n",
              "      <td>0.0</td>\n",
              "      <td>0.0</td>\n",
              "    </tr>\n",
              "    <tr>\n",
              "      <th>1903</th>\n",
              "      <td>2.0</td>\n",
              "      <td>0.0</td>\n",
              "      <td>0.0</td>\n",
              "    </tr>\n",
              "    <tr>\n",
              "      <th>1905</th>\n",
              "      <td>1.0</td>\n",
              "      <td>0.0</td>\n",
              "      <td>0.0</td>\n",
              "    </tr>\n",
              "    <tr>\n",
              "      <th>1909</th>\n",
              "      <td>1.0</td>\n",
              "      <td>0.0</td>\n",
              "      <td>0.0</td>\n",
              "    </tr>\n",
              "    <tr>\n",
              "      <th>...</th>\n",
              "      <td>...</td>\n",
              "      <td>...</td>\n",
              "      <td>...</td>\n",
              "    </tr>\n",
              "    <tr>\n",
              "      <th>2007</th>\n",
              "      <td>0.0</td>\n",
              "      <td>1.0</td>\n",
              "      <td>0.0</td>\n",
              "    </tr>\n",
              "    <tr>\n",
              "      <th>2008</th>\n",
              "      <td>2.0</td>\n",
              "      <td>0.0</td>\n",
              "      <td>0.0</td>\n",
              "    </tr>\n",
              "    <tr>\n",
              "      <th>2009</th>\n",
              "      <td>2.0</td>\n",
              "      <td>1.0</td>\n",
              "      <td>0.0</td>\n",
              "    </tr>\n",
              "    <tr>\n",
              "      <th>2011</th>\n",
              "      <td>0.0</td>\n",
              "      <td>1.0</td>\n",
              "      <td>0.0</td>\n",
              "    </tr>\n",
              "    <tr>\n",
              "      <th>2014</th>\n",
              "      <td>0.0</td>\n",
              "      <td>1.0</td>\n",
              "      <td>0.0</td>\n",
              "    </tr>\n",
              "  </tbody>\n",
              "</table>\n",
              "<p>103 rows × 3 columns</p>\n",
              "</div>\n",
              "      <button class=\"colab-df-convert\" onclick=\"convertToInteractive('df-f2202767-43fb-48ce-ac0f-85c2b5daeabd')\"\n",
              "              title=\"Convert this dataframe to an interactive table.\"\n",
              "              style=\"display:none;\">\n",
              "        \n",
              "  <svg xmlns=\"http://www.w3.org/2000/svg\" height=\"24px\"viewBox=\"0 0 24 24\"\n",
              "       width=\"24px\">\n",
              "    <path d=\"M0 0h24v24H0V0z\" fill=\"none\"/>\n",
              "    <path d=\"M18.56 5.44l.94 2.06.94-2.06 2.06-.94-2.06-.94-.94-2.06-.94 2.06-2.06.94zm-11 1L8.5 8.5l.94-2.06 2.06-.94-2.06-.94L8.5 2.5l-.94 2.06-2.06.94zm10 10l.94 2.06.94-2.06 2.06-.94-2.06-.94-.94-2.06-.94 2.06-2.06.94z\"/><path d=\"M17.41 7.96l-1.37-1.37c-.4-.4-.92-.59-1.43-.59-.52 0-1.04.2-1.43.59L10.3 9.45l-7.72 7.72c-.78.78-.78 2.05 0 2.83L4 21.41c.39.39.9.59 1.41.59.51 0 1.02-.2 1.41-.59l7.78-7.78 2.81-2.81c.8-.78.8-2.07 0-2.86zM5.41 20L4 18.59l7.72-7.72 1.47 1.35L5.41 20z\"/>\n",
              "  </svg>\n",
              "      </button>\n",
              "      \n",
              "  <style>\n",
              "    .colab-df-container {\n",
              "      display:flex;\n",
              "      flex-wrap:wrap;\n",
              "      gap: 12px;\n",
              "    }\n",
              "\n",
              "    .colab-df-convert {\n",
              "      background-color: #E8F0FE;\n",
              "      border: none;\n",
              "      border-radius: 50%;\n",
              "      cursor: pointer;\n",
              "      display: none;\n",
              "      fill: #1967D2;\n",
              "      height: 32px;\n",
              "      padding: 0 0 0 0;\n",
              "      width: 32px;\n",
              "    }\n",
              "\n",
              "    .colab-df-convert:hover {\n",
              "      background-color: #E2EBFA;\n",
              "      box-shadow: 0px 1px 2px rgba(60, 64, 67, 0.3), 0px 1px 3px 1px rgba(60, 64, 67, 0.15);\n",
              "      fill: #174EA6;\n",
              "    }\n",
              "\n",
              "    [theme=dark] .colab-df-convert {\n",
              "      background-color: #3B4455;\n",
              "      fill: #D2E3FC;\n",
              "    }\n",
              "\n",
              "    [theme=dark] .colab-df-convert:hover {\n",
              "      background-color: #434B5C;\n",
              "      box-shadow: 0px 1px 3px 1px rgba(0, 0, 0, 0.15);\n",
              "      filter: drop-shadow(0px 1px 2px rgba(0, 0, 0, 0.3));\n",
              "      fill: #FFFFFF;\n",
              "    }\n",
              "  </style>\n",
              "\n",
              "      <script>\n",
              "        const buttonEl =\n",
              "          document.querySelector('#df-f2202767-43fb-48ce-ac0f-85c2b5daeabd button.colab-df-convert');\n",
              "        buttonEl.style.display =\n",
              "          google.colab.kernel.accessAllowed ? 'block' : 'none';\n",
              "\n",
              "        async function convertToInteractive(key) {\n",
              "          const element = document.querySelector('#df-f2202767-43fb-48ce-ac0f-85c2b5daeabd');\n",
              "          const dataTable =\n",
              "            await google.colab.kernel.invokeFunction('convertToInteractive',\n",
              "                                                     [key], {});\n",
              "          if (!dataTable) return;\n",
              "\n",
              "          const docLinkHtml = 'Like what you see? Visit the ' +\n",
              "            '<a target=\"_blank\" href=https://colab.research.google.com/notebooks/data_table.ipynb>data table notebook</a>'\n",
              "            + ' to learn more about interactive tables.';\n",
              "          element.innerHTML = '';\n",
              "          dataTable['output_type'] = 'display_data';\n",
              "          await google.colab.output.renderOutput(dataTable, element);\n",
              "          const docLink = document.createElement('div');\n",
              "          docLink.innerHTML = docLinkHtml;\n",
              "          element.appendChild(docLink);\n",
              "        }\n",
              "      </script>\n",
              "    </div>\n",
              "  </div>\n",
              "  "
            ]
          },
          "metadata": {},
          "execution_count": 30
        }
      ]
    },
    {
      "cell_type": "code",
      "source": [
        "# For a stacked barchart, we need to decide which group goes in which order of the chart. Typically, it should be from largest to smallest.\n",
        "male_films1 = gender_count[\"Male\"]\n",
        "female_films2 = gender_count[\"Female\"]\n",
        "mixed_films3 = gender_count[\"Mixed\"]"
      ],
      "metadata": {
        "id": "yTkEP2TeR0bC"
      },
      "execution_count": 31,
      "outputs": []
    },
    {
      "cell_type": "code",
      "source": [
        "# To make a stacked bar chart, make the first bar chart normally, then make those on top with on top of that by using the keyword \"bottom\"\n",
        "plt.style.use('fivethirtyeight')\n",
        "plt.figure(figsize=(20, 8))\n",
        "plt.bar(gender_count.index, male_films1, color=\"teal\") \n",
        "plt.bar(gender_count.index, female_films2, bottom=male_films1, color=\"darkorange\")\n",
        "plt.bar(gender_count.index, mixed_films3, bottom=male_films1+female_films2, color=\"firebrick\")\n",
        "plt.legend([\"Male\", \"Female\", \"Mixed\"])\n",
        "plt.title(\"Distribution of Films per Year and Gender of Director\")\n",
        "plt.xticks(range(1890, 2014, 10))\n",
        "plt.yticks(range(0, 18, 2))\n",
        "plt.ylabel(\"Number of Films\")\n",
        "plt.savefig(\"Gender_Year_Distribution.jpg\", dpi=250, bbox_inches='tight')"
      ],
      "metadata": {
        "colab": {
          "base_uri": "https://localhost:8080/",
          "height": 536
        },
        "id": "lgiyB53xQOUZ",
        "outputId": "9f5432b9-43d0-4f3a-9d99-a5ea3db80495"
      },
      "execution_count": 32,
      "outputs": [
        {
          "output_type": "display_data",
          "data": {
            "text/plain": [
              "<Figure size 1440x576 with 1 Axes>"
            ],
            "image/png": "[encoded data removed]"
          },
          "metadata": {}
        }
      ]
    },
    {
      "cell_type": "markdown",
      "source": [
        "### Country Count"
      ],
      "metadata": {
        "id": "acR60ZxaO-NW"
      }
    },
    {
      "cell_type": "markdown",
      "source": [
        "There are several films there are co-productions, which means they are not counted together with the individual countries. There are different ways of solving this: we could transform co-productions into its own category, or we could separate the co-productions into the individual countries and count them again. The first solution would homogenize all co-productions, while the second one would count the same films multiple times. Since I am primarily interested in the proportion of films per country for reasons of representation, I will take the second course of action, given that co-productions should, in my opinion, count for a country's percentage. The downside of this strategy is that co-productions will be counted more than once."
      ],
      "metadata": {
        "id": "cZFBdH9fY-vm"
      }
    },
    {
      "cell_type": "code",
      "source": [
        "country_count = ref_full[[\"Country\"]]"
      ],
      "metadata": {
        "id": "NzQVnpIREOqP"
      },
      "execution_count": 33,
      "outputs": []
    },
    {
      "cell_type": "code",
      "source": [
        "country_count = country_count.drop('Country', axis=1).join(country_count['Country'].str.split('/ ', expand=True).stack().reset_index(level=1, drop=True).rename('Country'))"
      ],
      "metadata": {
        "id": "O_CbGWhhOUSy"
      },
      "execution_count": 34,
      "outputs": []
    },
    {
      "cell_type": "code",
      "source": [
        "country_count"
      ],
      "metadata": {
        "id": "6_BKd9MOEmO1",
        "colab": {
          "base_uri": "https://localhost:8080/",
          "height": 424
        },
        "outputId": "3fa076a5-70d1-4a88-d6ab-2805e02c83b2"
      },
      "execution_count": 35,
      "outputs": [
        {
          "output_type": "execute_result",
          "data": {
            "text/plain": [
              "    Country\n",
              "0       FRA\n",
              "1       FRA\n",
              "2       USA\n",
              "3       USA\n",
              "4       GBR\n",
              "..      ...\n",
              "426     ROU\n",
              "427     FRA\n",
              "428     DEU\n",
              "428     GBR\n",
              "428     USA\n",
              "\n",
              "[535 rows x 1 columns]"
            ],
            "text/html": [
              "\n",
              "  <div id=\"df-0a01b2b7-8c45-4c5d-b24f-76c595e16a87\">\n",
              "    <div class=\"colab-df-container\">\n",
              "      <div>\n",
              "<style scoped>\n",
              "    .dataframe tbody tr th:only-of-type {\n",
              "        vertical-align: middle;\n",
              "    }\n",
              "\n",
              "    .dataframe tbody tr th {\n",
              "        vertical-align: top;\n",
              "    }\n",
              "\n",
              "    .dataframe thead th {\n",
              "        text-align: right;\n",
              "    }\n",
              "</style>\n",
              "<table border=\"1\" class=\"dataframe\">\n",
              "  <thead>\n",
              "    <tr style=\"text-align: right;\">\n",
              "      <th></th>\n",
              "      <th>Country</th>\n",
              "    </tr>\n",
              "  </thead>\n",
              "  <tbody>\n",
              "    <tr>\n",
              "      <th>0</th>\n",
              "      <td>FRA</td>\n",
              "    </tr>\n",
              "    <tr>\n",
              "      <th>1</th>\n",
              "      <td>FRA</td>\n",
              "    </tr>\n",
              "    <tr>\n",
              "      <th>2</th>\n",
              "      <td>USA</td>\n",
              "    </tr>\n",
              "    <tr>\n",
              "      <th>3</th>\n",
              "      <td>USA</td>\n",
              "    </tr>\n",
              "    <tr>\n",
              "      <th>4</th>\n",
              "      <td>GBR</td>\n",
              "    </tr>\n",
              "    <tr>\n",
              "      <th>...</th>\n",
              "      <td>...</td>\n",
              "    </tr>\n",
              "    <tr>\n",
              "      <th>426</th>\n",
              "      <td>ROU</td>\n",
              "    </tr>\n",
              "    <tr>\n",
              "      <th>427</th>\n",
              "      <td>FRA</td>\n",
              "    </tr>\n",
              "    <tr>\n",
              "      <th>428</th>\n",
              "      <td>DEU</td>\n",
              "    </tr>\n",
              "    <tr>\n",
              "      <th>428</th>\n",
              "      <td>GBR</td>\n",
              "    </tr>\n",
              "    <tr>\n",
              "      <th>428</th>\n",
              "      <td>USA</td>\n",
              "    </tr>\n",
              "  </tbody>\n",
              "</table>\n",
              "<p>535 rows × 1 columns</p>\n",
              "</div>\n",
              "      <button class=\"colab-df-convert\" onclick=\"convertToInteractive('df-0a01b2b7-8c45-4c5d-b24f-76c595e16a87')\"\n",
              "              title=\"Convert this dataframe to an interactive table.\"\n",
              "              style=\"display:none;\">\n",
              "        \n",
              "  <svg xmlns=\"http://www.w3.org/2000/svg\" height=\"24px\"viewBox=\"0 0 24 24\"\n",
              "       width=\"24px\">\n",
              "    <path d=\"M0 0h24v24H0V0z\" fill=\"none\"/>\n",
              "    <path d=\"M18.56 5.44l.94 2.06.94-2.06 2.06-.94-2.06-.94-.94-2.06-.94 2.06-2.06.94zm-11 1L8.5 8.5l.94-2.06 2.06-.94-2.06-.94L8.5 2.5l-.94 2.06-2.06.94zm10 10l.94 2.06.94-2.06 2.06-.94-2.06-.94-.94-2.06-.94 2.06-2.06.94z\"/><path d=\"M17.41 7.96l-1.37-1.37c-.4-.4-.92-.59-1.43-.59-.52 0-1.04.2-1.43.59L10.3 9.45l-7.72 7.72c-.78.78-.78 2.05 0 2.83L4 21.41c.39.39.9.59 1.41.59.51 0 1.02-.2 1.41-.59l7.78-7.78 2.81-2.81c.8-.78.8-2.07 0-2.86zM5.41 20L4 18.59l7.72-7.72 1.47 1.35L5.41 20z\"/>\n",
              "  </svg>\n",
              "      </button>\n",
              "      \n",
              "  <style>\n",
              "    .colab-df-container {\n",
              "      display:flex;\n",
              "      flex-wrap:wrap;\n",
              "      gap: 12px;\n",
              "    }\n",
              "\n",
              "    .colab-df-convert {\n",
              "      background-color: #E8F0FE;\n",
              "      border: none;\n",
              "      border-radius: 50%;\n",
              "      cursor: pointer;\n",
              "      display: none;\n",
              "      fill: #1967D2;\n",
              "      height: 32px;\n",
              "      padding: 0 0 0 0;\n",
              "      width: 32px;\n",
              "    }\n",
              "\n",
              "    .colab-df-convert:hover {\n",
              "      background-color: #E2EBFA;\n",
              "      box-shadow: 0px 1px 2px rgba(60, 64, 67, 0.3), 0px 1px 3px 1px rgba(60, 64, 67, 0.15);\n",
              "      fill: #174EA6;\n",
              "    }\n",
              "\n",
              "    [theme=dark] .colab-df-convert {\n",
              "      background-color: #3B4455;\n",
              "      fill: #D2E3FC;\n",
              "    }\n",
              "\n",
              "    [theme=dark] .colab-df-convert:hover {\n",
              "      background-color: #434B5C;\n",
              "      box-shadow: 0px 1px 3px 1px rgba(0, 0, 0, 0.15);\n",
              "      filter: drop-shadow(0px 1px 2px rgba(0, 0, 0, 0.3));\n",
              "      fill: #FFFFFF;\n",
              "    }\n",
              "  </style>\n",
              "\n",
              "      <script>\n",
              "        const buttonEl =\n",
              "          document.querySelector('#df-0a01b2b7-8c45-4c5d-b24f-76c595e16a87 button.colab-df-convert');\n",
              "        buttonEl.style.display =\n",
              "          google.colab.kernel.accessAllowed ? 'block' : 'none';\n",
              "\n",
              "        async function convertToInteractive(key) {\n",
              "          const element = document.querySelector('#df-0a01b2b7-8c45-4c5d-b24f-76c595e16a87');\n",
              "          const dataTable =\n",
              "            await google.colab.kernel.invokeFunction('convertToInteractive',\n",
              "                                                     [key], {});\n",
              "          if (!dataTable) return;\n",
              "\n",
              "          const docLinkHtml = 'Like what you see? Visit the ' +\n",
              "            '<a target=\"_blank\" href=https://colab.research.google.com/notebooks/data_table.ipynb>data table notebook</a>'\n",
              "            + ' to learn more about interactive tables.';\n",
              "          element.innerHTML = '';\n",
              "          dataTable['output_type'] = 'display_data';\n",
              "          await google.colab.output.renderOutput(dataTable, element);\n",
              "          const docLink = document.createElement('div');\n",
              "          docLink.innerHTML = docLinkHtml;\n",
              "          element.appendChild(docLink);\n",
              "        }\n",
              "      </script>\n",
              "    </div>\n",
              "  </div>\n",
              "  "
            ]
          },
          "metadata": {},
          "execution_count": 35
        }
      ]
    },
    {
      "cell_type": "code",
      "source": [
        "# Run the count_frequency function to create a data frame with the frequency of countries\n",
        "frequent_countries = count_frequency(country_count, \"Country\")"
      ],
      "metadata": {
        "id": "WnpmNi2xCr5A"
      },
      "execution_count": 36,
      "outputs": []
    },
    {
      "cell_type": "code",
      "source": [
        "frequent_countries"
      ],
      "metadata": {
        "id": "Nrk9dwo-RgXj",
        "colab": {
          "base_uri": "https://localhost:8080/",
          "height": 1000
        },
        "outputId": "e41e34a8-3b50-4be7-ba2f-1de33e3c5bcd"
      },
      "execution_count": 37,
      "outputs": [
        {
          "output_type": "execute_result",
          "data": {
            "text/plain": [
              "   Country  Number of Items  Frequency\n",
              "0      USA              160   0.299065\n",
              "1      FRA               93   0.173832\n",
              "2      DEU               60   0.112150\n",
              "3      ITA               39   0.072897\n",
              "4      GBR               30   0.056075\n",
              "5      IND               16   0.029907\n",
              "6      JPN               14   0.026168\n",
              "7      HKG               13   0.024299\n",
              "8      SUN               11   0.020561\n",
              "9      SWE                7   0.013084\n",
              "10     CHE                6   0.011215\n",
              "11     AUT                6   0.011215\n",
              "12     CHN                6   0.011215\n",
              "13     POL                6   0.011215\n",
              "14     IRN                5   0.009346\n",
              "15     TWN                5   0.009346\n",
              "16     CAN                5   0.009346\n",
              "17     MEX                4   0.007477\n",
              "18     BEL                3   0.005607\n",
              "19     DNK                3   0.005607\n",
              "20     NLD                3   0.005607\n",
              "21     TUR                3   0.005607\n",
              "22     ESP                3   0.005607\n",
              "23     EGY                3   0.005607\n",
              "24     CUB                3   0.005607\n",
              "25     CSK                2   0.003738\n",
              "26     RUS                2   0.003738\n",
              "27     ISR                2   0.003738\n",
              "28     YUG                2   0.003738\n",
              "29     THA                2   0.003738\n",
              "30     ARG                2   0.003738\n",
              "31     BRA                2   0.003738\n",
              "32     KOR                1   0.001869\n",
              "33     PSE                1   0.001869\n",
              "34     TUN                1   0.001869\n",
              "35     HUN                1   0.001869\n",
              "36     NGA                1   0.001869\n",
              "37     MLI                1   0.001869\n",
              "38     CHL                1   0.001869\n",
              "39     DZA                1   0.001869\n",
              "40     PHL                1   0.001869\n",
              "41     GRC                1   0.001869\n",
              "42     DDR                1   0.001869\n",
              "43    USA                 1   0.001869\n",
              "44     BOL                1   0.001869\n",
              "45     ROU                1   0.001869"
            ],
            "text/html": [
              "\n",
              "  <div id=\"df-2f70ca26-51ac-4822-9206-b23adc858933\">\n",
              "    <div class=\"colab-df-container\">\n",
              "      <div>\n",
              "<style scoped>\n",
              "    .dataframe tbody tr th:only-of-type {\n",
              "        vertical-align: middle;\n",
              "    }\n",
              "\n",
              "    .dataframe tbody tr th {\n",
              "        vertical-align: top;\n",
              "    }\n",
              "\n",
              "    .dataframe thead th {\n",
              "        text-align: right;\n",
              "    }\n",
              "</style>\n",
              "<table border=\"1\" class=\"dataframe\">\n",
              "  <thead>\n",
              "    <tr style=\"text-align: right;\">\n",
              "      <th></th>\n",
              "      <th>Country</th>\n",
              "      <th>Number of Items</th>\n",
              "      <th>Frequency</th>\n",
              "    </tr>\n",
              "  </thead>\n",
              "  <tbody>\n",
              "    <tr>\n",
              "      <th>0</th>\n",
              "      <td>USA</td>\n",
              "      <td>160</td>\n",
              "      <td>0.299065</td>\n",
              "    </tr>\n",
              "    <tr>\n",
              "      <th>1</th>\n",
              "      <td>FRA</td>\n",
              "      <td>93</td>\n",
              "      <td>0.173832</td>\n",
              "    </tr>\n",
              "    <tr>\n",
              "      <th>2</th>\n",
              "      <td>DEU</td>\n",
              "      <td>60</td>\n",
              "      <td>0.112150</td>\n",
              "    </tr>\n",
              "    <tr>\n",
              "      <th>3</th>\n",
              "      <td>ITA</td>\n",
              "      <td>39</td>\n",
              "      <td>0.072897</td>\n",
              "    </tr>\n",
              "    <tr>\n",
              "      <th>4</th>\n",
              "      <td>GBR</td>\n",
              "      <td>30</td>\n",
              "      <td>0.056075</td>\n",
              "    </tr>\n",
              "    <tr>\n",
              "      <th>5</th>\n",
              "      <td>IND</td>\n",
              "      <td>16</td>\n",
              "      <td>0.029907</td>\n",
              "    </tr>\n",
              "    <tr>\n",
              "      <th>6</th>\n",
              "      <td>JPN</td>\n",
              "      <td>14</td>\n",
              "      <td>0.026168</td>\n",
              "    </tr>\n",
              "    <tr>\n",
              "      <th>7</th>\n",
              "      <td>HKG</td>\n",
              "      <td>13</td>\n",
              "      <td>0.024299</td>\n",
              "    </tr>\n",
              "    <tr>\n",
              "      <th>8</th>\n",
              "      <td>SUN</td>\n",
              "      <td>11</td>\n",
              "      <td>0.020561</td>\n",
              "    </tr>\n",
              "    <tr>\n",
              "      <th>9</th>\n",
              "      <td>SWE</td>\n",
              "      <td>7</td>\n",
              "      <td>0.013084</td>\n",
              "    </tr>\n",
              "    <tr>\n",
              "      <th>10</th>\n",
              "      <td>CHE</td>\n",
              "      <td>6</td>\n",
              "      <td>0.011215</td>\n",
              "    </tr>\n",
              "    <tr>\n",
              "      <th>11</th>\n",
              "      <td>AUT</td>\n",
              "      <td>6</td>\n",
              "      <td>0.011215</td>\n",
              "    </tr>\n",
              "    <tr>\n",
              "      <th>12</th>\n",
              "      <td>CHN</td>\n",
              "      <td>6</td>\n",
              "      <td>0.011215</td>\n",
              "    </tr>\n",
              "    <tr>\n",
              "      <th>13</th>\n",
              "      <td>POL</td>\n",
              "      <td>6</td>\n",
              "      <td>0.011215</td>\n",
              "    </tr>\n",
              "    <tr>\n",
              "      <th>14</th>\n",
              "      <td>IRN</td>\n",
              "      <td>5</td>\n",
              "      <td>0.009346</td>\n",
              "    </tr>\n",
              "    <tr>\n",
              "      <th>15</th>\n",
              "      <td>TWN</td>\n",
              "      <td>5</td>\n",
              "      <td>0.009346</td>\n",
              "    </tr>\n",
              "    <tr>\n",
              "      <th>16</th>\n",
              "      <td>CAN</td>\n",
              "      <td>5</td>\n",
              "      <td>0.009346</td>\n",
              "    </tr>\n",
              "    <tr>\n",
              "      <th>17</th>\n",
              "      <td>MEX</td>\n",
              "      <td>4</td>\n",
              "      <td>0.007477</td>\n",
              "    </tr>\n",
              "    <tr>\n",
              "      <th>18</th>\n",
              "      <td>BEL</td>\n",
              "      <td>3</td>\n",
              "      <td>0.005607</td>\n",
              "    </tr>\n",
              "    <tr>\n",
              "      <th>19</th>\n",
              "      <td>DNK</td>\n",
              "      <td>3</td>\n",
              "      <td>0.005607</td>\n",
              "    </tr>\n",
              "    <tr>\n",
              "      <th>20</th>\n",
              "      <td>NLD</td>\n",
              "      <td>3</td>\n",
              "      <td>0.005607</td>\n",
              "    </tr>\n",
              "    <tr>\n",
              "      <th>21</th>\n",
              "      <td>TUR</td>\n",
              "      <td>3</td>\n",
              "      <td>0.005607</td>\n",
              "    </tr>\n",
              "    <tr>\n",
              "      <th>22</th>\n",
              "      <td>ESP</td>\n",
              "      <td>3</td>\n",
              "      <td>0.005607</td>\n",
              "    </tr>\n",
              "    <tr>\n",
              "      <th>23</th>\n",
              "      <td>EGY</td>\n",
              "      <td>3</td>\n",
              "      <td>0.005607</td>\n",
              "    </tr>\n",
              "    <tr>\n",
              "      <th>24</th>\n",
              "      <td>CUB</td>\n",
              "      <td>3</td>\n",
              "      <td>0.005607</td>\n",
              "    </tr>\n",
              "    <tr>\n",
              "      <th>25</th>\n",
              "      <td>CSK</td>\n",
              "      <td>2</td>\n",
              "      <td>0.003738</td>\n",
              "    </tr>\n",
              "    <tr>\n",
              "      <th>26</th>\n",
              "      <td>RUS</td>\n",
              "      <td>2</td>\n",
              "      <td>0.003738</td>\n",
              "    </tr>\n",
              "    <tr>\n",
              "      <th>27</th>\n",
              "      <td>ISR</td>\n",
              "      <td>2</td>\n",
              "      <td>0.003738</td>\n",
              "    </tr>\n",
              "    <tr>\n",
              "      <th>28</th>\n",
              "      <td>YUG</td>\n",
              "      <td>2</td>\n",
              "      <td>0.003738</td>\n",
              "    </tr>\n",
              "    <tr>\n",
              "      <th>29</th>\n",
              "      <td>THA</td>\n",
              "      <td>2</td>\n",
              "      <td>0.003738</td>\n",
              "    </tr>\n",
              "    <tr>\n",
              "      <th>30</th>\n",
              "      <td>ARG</td>\n",
              "      <td>2</td>\n",
              "      <td>0.003738</td>\n",
              "    </tr>\n",
              "    <tr>\n",
              "      <th>31</th>\n",
              "      <td>BRA</td>\n",
              "      <td>2</td>\n",
              "      <td>0.003738</td>\n",
              "    </tr>\n",
              "    <tr>\n",
              "      <th>32</th>\n",
              "      <td>KOR</td>\n",
              "      <td>1</td>\n",
              "      <td>0.001869</td>\n",
              "    </tr>\n",
              "    <tr>\n",
              "      <th>33</th>\n",
              "      <td>PSE</td>\n",
              "      <td>1</td>\n",
              "      <td>0.001869</td>\n",
              "    </tr>\n",
              "    <tr>\n",
              "      <th>34</th>\n",
              "      <td>TUN</td>\n",
              "      <td>1</td>\n",
              "      <td>0.001869</td>\n",
              "    </tr>\n",
              "    <tr>\n",
              "      <th>35</th>\n",
              "      <td>HUN</td>\n",
              "      <td>1</td>\n",
              "      <td>0.001869</td>\n",
              "    </tr>\n",
              "    <tr>\n",
              "      <th>36</th>\n",
              "      <td>NGA</td>\n",
              "      <td>1</td>\n",
              "      <td>0.001869</td>\n",
              "    </tr>\n",
              "    <tr>\n",
              "      <th>37</th>\n",
              "      <td>MLI</td>\n",
              "      <td>1</td>\n",
              "      <td>0.001869</td>\n",
              "    </tr>\n",
              "    <tr>\n",
              "      <th>38</th>\n",
              "      <td>CHL</td>\n",
              "      <td>1</td>\n",
              "      <td>0.001869</td>\n",
              "    </tr>\n",
              "    <tr>\n",
              "      <th>39</th>\n",
              "      <td>DZA</td>\n",
              "      <td>1</td>\n",
              "      <td>0.001869</td>\n",
              "    </tr>\n",
              "    <tr>\n",
              "      <th>40</th>\n",
              "      <td>PHL</td>\n",
              "      <td>1</td>\n",
              "      <td>0.001869</td>\n",
              "    </tr>\n",
              "    <tr>\n",
              "      <th>41</th>\n",
              "      <td>GRC</td>\n",
              "      <td>1</td>\n",
              "      <td>0.001869</td>\n",
              "    </tr>\n",
              "    <tr>\n",
              "      <th>42</th>\n",
              "      <td>DDR</td>\n",
              "      <td>1</td>\n",
              "      <td>0.001869</td>\n",
              "    </tr>\n",
              "    <tr>\n",
              "      <th>43</th>\n",
              "      <td>USA</td>\n",
              "      <td>1</td>\n",
              "      <td>0.001869</td>\n",
              "    </tr>\n",
              "    <tr>\n",
              "      <th>44</th>\n",
              "      <td>BOL</td>\n",
              "      <td>1</td>\n",
              "      <td>0.001869</td>\n",
              "    </tr>\n",
              "    <tr>\n",
              "      <th>45</th>\n",
              "      <td>ROU</td>\n",
              "      <td>1</td>\n",
              "      <td>0.001869</td>\n",
              "    </tr>\n",
              "  </tbody>\n",
              "</table>\n",
              "</div>\n",
              "      <button class=\"colab-df-convert\" onclick=\"convertToInteractive('df-2f70ca26-51ac-4822-9206-b23adc858933')\"\n",
              "              title=\"Convert this dataframe to an interactive table.\"\n",
              "              style=\"display:none;\">\n",
              "        \n",
              "  <svg xmlns=\"http://www.w3.org/2000/svg\" height=\"24px\"viewBox=\"0 0 24 24\"\n",
              "       width=\"24px\">\n",
              "    <path d=\"M0 0h24v24H0V0z\" fill=\"none\"/>\n",
              "    <path d=\"M18.56 5.44l.94 2.06.94-2.06 2.06-.94-2.06-.94-.94-2.06-.94 2.06-2.06.94zm-11 1L8.5 8.5l.94-2.06 2.06-.94-2.06-.94L8.5 2.5l-.94 2.06-2.06.94zm10 10l.94 2.06.94-2.06 2.06-.94-2.06-.94-.94-2.06-.94 2.06-2.06.94z\"/><path d=\"M17.41 7.96l-1.37-1.37c-.4-.4-.92-.59-1.43-.59-.52 0-1.04.2-1.43.59L10.3 9.45l-7.72 7.72c-.78.78-.78 2.05 0 2.83L4 21.41c.39.39.9.59 1.41.59.51 0 1.02-.2 1.41-.59l7.78-7.78 2.81-2.81c.8-.78.8-2.07 0-2.86zM5.41 20L4 18.59l7.72-7.72 1.47 1.35L5.41 20z\"/>\n",
              "  </svg>\n",
              "      </button>\n",
              "      \n",
              "  <style>\n",
              "    .colab-df-container {\n",
              "      display:flex;\n",
              "      flex-wrap:wrap;\n",
              "      gap: 12px;\n",
              "    }\n",
              "\n",
              "    .colab-df-convert {\n",
              "      background-color: #E8F0FE;\n",
              "      border: none;\n",
              "      border-radius: 50%;\n",
              "      cursor: pointer;\n",
              "      display: none;\n",
              "      fill: #1967D2;\n",
              "      height: 32px;\n",
              "      padding: 0 0 0 0;\n",
              "      width: 32px;\n",
              "    }\n",
              "\n",
              "    .colab-df-convert:hover {\n",
              "      background-color: #E2EBFA;\n",
              "      box-shadow: 0px 1px 2px rgba(60, 64, 67, 0.3), 0px 1px 3px 1px rgba(60, 64, 67, 0.15);\n",
              "      fill: #174EA6;\n",
              "    }\n",
              "\n",
              "    [theme=dark] .colab-df-convert {\n",
              "      background-color: #3B4455;\n",
              "      fill: #D2E3FC;\n",
              "    }\n",
              "\n",
              "    [theme=dark] .colab-df-convert:hover {\n",
              "      background-color: #434B5C;\n",
              "      box-shadow: 0px 1px 3px 1px rgba(0, 0, 0, 0.15);\n",
              "      filter: drop-shadow(0px 1px 2px rgba(0, 0, 0, 0.3));\n",
              "      fill: #FFFFFF;\n",
              "    }\n",
              "  </style>\n",
              "\n",
              "      <script>\n",
              "        const buttonEl =\n",
              "          document.querySelector('#df-2f70ca26-51ac-4822-9206-b23adc858933 button.colab-df-convert');\n",
              "        buttonEl.style.display =\n",
              "          google.colab.kernel.accessAllowed ? 'block' : 'none';\n",
              "\n",
              "        async function convertToInteractive(key) {\n",
              "          const element = document.querySelector('#df-2f70ca26-51ac-4822-9206-b23adc858933');\n",
              "          const dataTable =\n",
              "            await google.colab.kernel.invokeFunction('convertToInteractive',\n",
              "                                                     [key], {});\n",
              "          if (!dataTable) return;\n",
              "\n",
              "          const docLinkHtml = 'Like what you see? Visit the ' +\n",
              "            '<a target=\"_blank\" href=https://colab.research.google.com/notebooks/data_table.ipynb>data table notebook</a>'\n",
              "            + ' to learn more about interactive tables.';\n",
              "          element.innerHTML = '';\n",
              "          dataTable['output_type'] = 'display_data';\n",
              "          await google.colab.output.renderOutput(dataTable, element);\n",
              "          const docLink = document.createElement('div');\n",
              "          docLink.innerHTML = docLinkHtml;\n",
              "          element.appendChild(docLink);\n",
              "        }\n",
              "      </script>\n",
              "    </div>\n",
              "  </div>\n",
              "  "
            ]
          },
          "metadata": {},
          "execution_count": 37
        }
      ]
    },
    {
      "cell_type": "markdown",
      "source": [
        "There are 45 unique countries on our list. A bar chart with all would a bit too long and hard to read, so before we make a visualization, we could group the countries with few films under \"Others\". Here is where we'll use the function \"group_others\" from the beginning."
      ],
      "metadata": {
        "id": "zNOzcuHHEKoZ"
      }
    },
    {
      "cell_type": "code",
      "source": [
        "# Run group_others function with 1% or less.\n",
        "countries_over_1pct = group_others(frequent_countries, 'Country', 0.01)\n",
        "print(countries_over_1pct)"
      ],
      "metadata": {
        "id": "Z3Y-sQ7WZEVn",
        "colab": {
          "base_uri": "https://localhost:8080/"
        },
        "outputId": "45e5f477-1c28-4394-f5fb-6da71ffbaeef"
      },
      "execution_count": 38,
      "outputs": [
        {
          "output_type": "stream",
          "name": "stdout",
          "text": [
            "   Country  Number of Items  Frequency\n",
            "0      USA              160   0.299065\n",
            "1      FRA               93   0.173832\n",
            "2      DEU               60   0.112150\n",
            "3      ITA               39   0.072897\n",
            "4      GBR               30   0.056075\n",
            "5      IND               16   0.029907\n",
            "6      JPN               14   0.026168\n",
            "7      HKG               13   0.024299\n",
            "8      SUN               11   0.020561\n",
            "9      SWE                7   0.013084\n",
            "10     AUT                6   0.011215\n",
            "11     CHE                6   0.011215\n",
            "12     CHN                6   0.011215\n",
            "13     POL                6   0.011215\n",
            "14  Others               68   0.127103\n"
          ]
        }
      ]
    },
    {
      "cell_type": "code",
      "source": [
        "# Let's visualize this data with a bar chart\n",
        "plt.figure(figsize=(10, 6))\n",
        "sns.barplot(data=countries_over_1pct, x=\"Country\", y=\"Number of Items\", color=\"teal\")\n",
        "plt.title(\"Most Represented Countries on the Reference List\")\n",
        "sns.despine(left=True, bottom=True)\n",
        "plt.savefig(\"Countries_over_1pct_VerticalBar.jpg\", dpi=250, bbox_inches='tight')\n",
        "plt.show()"
      ],
      "metadata": {
        "id": "-vSjU_YpZHG0",
        "colab": {
          "base_uri": "https://localhost:8080/",
          "height": 441
        },
        "outputId": "e92f3e9f-a226-40f9-fac0-5da825728ac6"
      },
      "execution_count": 39,
      "outputs": [
        {
          "output_type": "display_data",
          "data": {
            "text/plain": [
              "<Figure size 720x432 with 1 Axes>"
            ],
            "image/png": "[encoded data removed]"
          },
          "metadata": {}
        }
      ]
    },
    {
      "cell_type": "code",
      "source": [
        "# Let's take a look at it with a pie chart. We need fewer slices to make it readable, so let's group those with 5% or less\n",
        "countries_over_5pct = group_others(frequent_countries, 'Country', 0.05)"
      ],
      "metadata": {
        "id": "9E1_H7sUTPy1"
      },
      "execution_count": 40,
      "outputs": []
    },
    {
      "cell_type": "code",
      "source": [
        "# Pie chart\n",
        "plt.figure(figsize=(9, 7))\n",
        "plt.pie(countries_over_5pct[\"Number of Items\"], labels = countries_over_5pct[\"Country\"], autopct='%1.1f%%', pctdistance=0.7, colors=[\"teal\", \"green\", \"gold\", \"darkorange\", \"firebrick\", \"purple\"])\n",
        "plt.title(\"Most Represented Countries on the Reference List\")\n",
        "plt.savefig(\"Countries_Pie.jpg\", dpi=250, bbox_inches='tight')"
      ],
      "metadata": {
        "id": "xOBpXToRTsVm",
        "colab": {
          "base_uri": "https://localhost:8080/",
          "height": 460
        },
        "outputId": "e3e22864-280e-40bf-a06d-5cff35a3c248"
      },
      "execution_count": 41,
      "outputs": [
        {
          "output_type": "display_data",
          "data": {
            "text/plain": [
              "<Figure size 648x504 with 1 Axes>"
            ],
            "image/png": "[encoded data removed]"
          },
          "metadata": {}
        }
      ]
    }
  ]
}